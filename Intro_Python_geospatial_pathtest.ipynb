{
 "cells": [
  {
   "cell_type": "markdown",
   "metadata": {
    "colab_type": "text",
    "id": "view-in-github"
   },
   "source": [
    "[View in Colaboratory](https://colab.research.google.com/github/rrcarlson/Intro_python_geo/blob/master/Intro_Python_geospatial.ipynb)"
   ]
  },
  {
   "cell_type": "markdown",
   "metadata": {
    "colab_type": "text",
    "id": "Fl40H7od1mK4"
   },
   "source": [
    "# Intro to Python"
   ]
  },
  {
   "cell_type": "markdown",
   "metadata": {
    "colab_type": "text",
    "id": "cGa0avMm1mK5"
   },
   "source": [
    "![Python image](https://github.com/rrcarlson/Intro_python_geo/blob/master/images/python.jpg?raw=1)\n",
    "\n",
    "Python is a rich, versatile language with lots of prolific contributors. So where to start? \n",
    "\n",
    "For reference, below are some Python tutorials that cover a range of Python libraries. As a Python newbie, I've found that using Pandas/GeoPandas and NumPy have introduced me organically to other libraries, and have allowed me to see results quickly for basic geospatial tasks--so we'll start there!\n",
    "* [Python basics](https://github.com/sinkovit/PythonSeries/blob/master/Python%20basics.ipynb): How to create lists, dictionaries, iterators, etc.\n",
    "* [Python Markdown and LaTex](https://github.com/adam-p/markdown-here/wiki/Markdown-Cheatsheet#code): Documentation and formatting\n",
    "* Matplotlib: Data visualization\n",
    "* [Pandas](https://pandas.pydata.org/pandas-docs/stable/10min.html): Data wrangling and preparation using two types of data objects: 1) DataFrames, 2) Series.\n",
    "* [GeoPandas](https://automating-gis-processes.github.io/2016/Lesson2-overview-pandas-geopandas.html): Basically the geospatial version of Pandas. Adds geospatial functionality to the DataFrame (GeoDataFrame).\n",
    "* [NumPy](https://www.datacamp.com/community/tutorials/python-numpy-tutorial): Multi-dimensional data arrays for manipulating large datasets. There are some functions for linear algebra and statistics within NumPy but it's also used by SciPy, matplotlib, and pandas for scientific computing.\n",
    "* [SciPy](http://www.randalolson.com/2012/08/06/statistical-analysis-made-easy-in-python/): Scientific computing and statistical analysis. Uses NumPy, Matplotlib, and Pandas, and is common in earth sciences, astronomy, and oceanography.\n",
    "* [Shapely](http://toblerity.org/shapely/manual.html): Spatial data model for planar features (points, curves, and surfaces)\n",
    "* Skikit-learn: regression, clustering, and classification algorithms\n",
    "* Various [cool tricks](https://community.modeanalytics.com/python/)"
   ]
  },
  {
   "cell_type": "markdown",
   "metadata": {
    "colab_type": "text",
    "id": "kH0cCmSd1mK5"
   },
   "source": [
    "# Conservation in the Dominican Republic"
   ]
  },
  {
   "cell_type": "markdown",
   "metadata": {
    "colab_type": "text",
    "id": "vTbdGoGL1mK6"
   },
   "source": [
    "![Reef image](https://github.com/rrcarlson/Intro_python_geo/blob/master/images/01_coral_reef_bright_spot.jpg?raw=1)\n",
    "\n",
    "In this tutorial, we'll be testing out two Python libraries, **GeoPandas** and **NumPy**, that are useful in GIS. Our objectives: to filter and analyze vector and raster data for conservation areas in the Dominican Republic.\n",
    "\n",
    "We'll use two datasets:\n",
    "* **Conservation Areas of the Dominican Republic**: Vector data delineating conservation area boundaries, from the [World Database of Protected Areas (WDPA)](https://www.iucn.org/theme/protected-areas/our-work/world-database-protected-areas).\n",
    "* **Gridded Bathymetric Data**: Raster data (30 arc-second resolution) on bathymetry from the [British Oceanographic Data Center](https://www.bodc.ac.uk/data/hosted_data_systems/gebco_gridded_bathymetry_data/).\n",
    "\n",
    "Our goals are:\n",
    "* **Filter the WDPA database** to find only conservation areas for the marine environment (Marine Protected Areas)\n",
    "* **Clip rasters** to MPA boundaries\n",
    "* **Analyze raster data** (bathymetry) within Marine Protected Area boundaries to find\n",
    "    * Mean depth per MPA\n",
    "    * Standard deviation of depth per MPA\n",
    "    * Range of depth per MPA"
   ]
  },
  {
   "cell_type": "markdown",
   "metadata": {
    "colab_type": "text",
    "id": "OG90pHk51mK6"
   },
   "source": [
    "# Step 1: Load your libraries"
   ]
  },
  {
   "cell_type": "markdown",
   "metadata": {
    "colab_type": "text",
    "id": "uU77Mqop1mK7"
   },
   "source": [
    "What libraries do we need?\n",
    "* Vector data comes in a tabular format, with one geometric feature per row. So we need a library to organize geographic data in a DataFrame.\n",
    "**That's Pandas** (more specifically, **GeoPandas**).\n",
    "* Raster data is a little trickier. It comes to us in a grid of pixel values, sometimes in multiple bands (3+ dimensions). We need a library to organize arrays/matrices of values in *n* dimensions. **That's NumPy**.\n",
    "* Numpy isn't explicitly designed to handle raster data. We need the help of another library to convert our raster files into array format. **That's [OpticalRS](https://github.com/jkibele/OpticalRS)**, created by NCEAS' very own Jared Kibele!\n",
    "* We'll want to plot stuff, so we need a library for data visualization. That's **matplotlib**."
   ]
  },
  {
   "cell_type": "code",
   "execution_count": null,
   "metadata": {
    "colab": {
     "base_uri": "https://localhost:8080/",
     "height": 1105
    },
    "colab_type": "code",
    "collapsed": true,
    "id": "8LPRolUb22i0",
    "outputId": "5d7cd55b-5498-40f2-cd05-1ddf9791c10f"
   },
   "outputs": [
    {
     "name": "stdout",
     "output_type": "stream",
     "text": [
      "Reading package lists... Done\n",
      "Building dependency tree       \n",
      "Reading state information... Done\n",
      "software-properties-common is already the newest version (0.96.24.17).\n",
      "python-software-properties is already the newest version (0.96.24.17).\n",
      "0 upgraded, 0 newly installed, 0 to remove and 11 not upgraded.\n",
      "gpg: keybox '/tmp/tmp4_2wp8cm/pubring.gpg' created\n",
      "gpg: /tmp/tmp4_2wp8cm/trustdb.gpg: trustdb created\n",
      "gpg: key 089EBE08314DF160: public key \"Launchpad ubuntugis-stable\" imported\n",
      "gpg: Total number processed: 1\n",
      "gpg:               imported: 1\n",
      "OK\n",
      "Get:1 http://security.ubuntu.com/ubuntu artful-security InRelease [83.2 kB]\n",
      "Ign:2 http://ppa.launchpad.net/ubuntugis/ppa/ubuntu artful InRelease\n",
      "Hit:3 http://archive.ubuntu.com/ubuntu artful InRelease\n",
      "Get:4 http://archive.ubuntu.com/ubuntu artful-updates InRelease [88.7 kB]\n",
      "Err:5 http://ppa.launchpad.net/ubuntugis/ppa/ubuntu artful Release\n",
      "  404  Not Found\n",
      "Get:6 http://archive.ubuntu.com/ubuntu artful-backports InRelease [74.6 kB]\n",
      "Reading package lists... Done\n",
      "E: The repository 'http://ppa.launchpad.net/ubuntugis/ppa/ubuntu artful Release' does not have a Release file.\n",
      "N: Updating from such a repository can't be done securely, and is therefore disabled by default.\n",
      "N: See apt-secure(8) manpage for repository creation and user configuration details.\n",
      "Reading package lists... Done\n",
      "Building dependency tree       \n",
      "Reading state information... Done\n",
      "gdal-bin is already the newest version (2.2.1+dfsg-2build3).\n",
      "libgdal-dev is already the newest version (2.2.1+dfsg-2build3).\n",
      "python-gdal is already the newest version (2.2.1+dfsg-2build3).\n",
      "0 upgraded, 0 newly installed, 0 to remove and 11 not upgraded.\n",
      "Requirement already satisfied: OpticalRS in /usr/local/lib/python2.7/dist-packages (1.0.4)\n",
      "Requirement already satisfied: numpy in /usr/local/lib/python2.7/dist-packages (from OpticalRS) (1.14.3)\n",
      "Requirement already satisfied: geopandas in /usr/local/lib/python2.7/dist-packages (from OpticalRS) (0.3.0)\n",
      "Requirement already satisfied: pandas in /usr/local/lib/python2.7/dist-packages (from OpticalRS) (0.22.0)\n",
      "Requirement already satisfied: matplotlib in /usr/local/lib/python2.7/dist-packages (from OpticalRS) (2.1.2)\n",
      "Requirement already satisfied: scikit-learn in /usr/local/lib/python2.7/dist-packages (from OpticalRS) (0.19.1)\n",
      "Requirement already satisfied: statsmodels in /usr/local/lib/python2.7/dist-packages (from OpticalRS) (0.8.0)\n",
      "Requirement already satisfied: scipy in /usr/local/lib/python2.7/dist-packages (from OpticalRS) (0.19.1)\n",
      "Requirement already satisfied: rasterstats==0.5 in /usr/local/lib/python2.7/dist-packages (from OpticalRS) (0.5)\n",
      "Requirement already satisfied: scikit-image in /usr/local/lib/python2.7/dist-packages (from OpticalRS) (0.13.1)\n",
      "Requirement already satisfied: GDAL in /usr/lib/python2.7/dist-packages (from OpticalRS) (2.2.1)\n",
      "Requirement already satisfied: descartes in /usr/local/lib/python2.7/dist-packages (from geopandas->OpticalRS) (1.1.0)\n",
      "Requirement already satisfied: shapely in /usr/local/lib/python2.7/dist-packages (from geopandas->OpticalRS) (1.6.4.post1)\n",
      "Requirement already satisfied: fiona in /usr/local/lib/python2.7/dist-packages (from geopandas->OpticalRS) (1.7.11.post2)\n",
      "Requirement already satisfied: pyproj in /usr/local/lib/python2.7/dist-packages (from geopandas->OpticalRS) (1.9.5.1)\n",
      "Requirement already satisfied: pytz>=2011k in /usr/local/lib/python2.7/dist-packages (from pandas->OpticalRS) (2018.4)\n",
      "Requirement already satisfied: python-dateutil in /usr/local/lib/python2.7/dist-packages (from pandas->OpticalRS) (2.5.3)\n",
      "Requirement already satisfied: cycler>=0.10 in /usr/local/lib/python2.7/dist-packages (from matplotlib->OpticalRS) (0.10.0)\n",
      "Requirement already satisfied: backports.functools-lru-cache in /usr/local/lib/python2.7/dist-packages (from matplotlib->OpticalRS) (1.5)\n",
      "Requirement already satisfied: subprocess32 in /usr/local/lib/python2.7/dist-packages (from matplotlib->OpticalRS) (3.5.0)\n",
      "Requirement already satisfied: six>=1.10 in /usr/local/lib/python2.7/dist-packages (from matplotlib->OpticalRS) (1.11.0)\n",
      "Requirement already satisfied: pyparsing!=2.0.4,!=2.1.2,!=2.1.6,>=2.0.1 in /usr/local/lib/python2.7/dist-packages (from matplotlib->OpticalRS) (2.2.0)\n",
      "Requirement already satisfied: patsy in /usr/local/lib/python2.7/dist-packages (from statsmodels->OpticalRS) (0.5.0)\n",
      "Requirement already satisfied: docopt in /usr/local/lib/python2.7/dist-packages (from rasterstats==0.5->OpticalRS) (0.6.2)\n",
      "Requirement already satisfied: PyWavelets>=0.4.0 in /usr/local/lib/python2.7/dist-packages (from scikit-image->OpticalRS) (0.5.2)\n",
      "Requirement already satisfied: networkx>=1.8 in /usr/local/lib/python2.7/dist-packages (from scikit-image->OpticalRS) (2.1)\n",
      "Requirement already satisfied: pillow>=2.1.0 in /usr/local/lib/python2.7/dist-packages (from scikit-image->OpticalRS) (4.0.0)\n",
      "Requirement already satisfied: click-plugins in /usr/local/lib/python2.7/dist-packages (from fiona->geopandas->OpticalRS) (1.0.3)\n",
      "Requirement already satisfied: enum34 in /usr/local/lib/python2.7/dist-packages (from fiona->geopandas->OpticalRS) (1.1.6)\n",
      "Requirement already satisfied: cligj>=0.4 in /usr/local/lib/python2.7/dist-packages (from fiona->geopandas->OpticalRS) (0.4.0)\n",
      "Requirement already satisfied: munch in /usr/local/lib/python2.7/dist-packages (from fiona->geopandas->OpticalRS) (2.3.2)\n",
      "Requirement already satisfied: decorator>=4.1.0 in /usr/local/lib/python2.7/dist-packages (from networkx>=1.8->scikit-image->OpticalRS) (4.3.0)\n",
      "Requirement already satisfied: olefile in /usr/local/lib/python2.7/dist-packages (from pillow>=2.1.0->scikit-image->OpticalRS) (0.45.1)\n",
      "Requirement already satisfied: click>=3.0 in /usr/local/lib/python2.7/dist-packages (from click-plugins->fiona->geopandas->OpticalRS) (6.7)\n"
     ]
    }
   ],
   "source": [
    "#@title\n",
    "# Install OpticalRS. This also installs GeoPandas because GeoPandas is a dependency of OpticalRS\n",
    "!apt-get install software-properties-common python-software-properties\n",
    "!add-apt-repository ppa:ubuntugis/ppa -y\n",
    "!apt-get update\n",
    "!apt-get install -y --fix-missing python-gdal gdal-bin libgdal-dev\n",
    "!pip2 install OpticalRS"
   ]
  },
  {
   "cell_type": "code",
   "execution_count": 1,
   "metadata": {
    "colab": {
     "base_uri": "https://localhost:8080/",
     "height": 71
    },
    "colab_type": "code",
    "collapsed": true,
    "id": "20rpNBAb1mK8",
    "outputId": "d6d91b28-50d5-4b06-c6dd-74b68bc5f4eb"
   },
   "outputs": [
    {
     "name": "stderr",
     "output_type": "stream",
     "text": [
      "/usr/local/lib/python2.7/site-packages/sklearn/cross_validation.py:44: DeprecationWarning: This module was deprecated in version 0.18 in favor of the model_selection module into which all the refactored classes and functions are moved. Also note that the interface of the new CV iterators are different from that of this module. This module will be removed in 0.20.\n",
      "  \"This module will be removed in 0.20.\", DeprecationWarning)\n"
     ]
    }
   ],
   "source": [
    "import geopandas as gpd\n",
    "import pandas as pd\n",
    "import numpy as np\n",
    "import matplotlib\n",
    "from OpticalRS import *"
   ]
  },
  {
   "cell_type": "markdown",
   "metadata": {
    "colab_type": "text",
    "id": "8J29u-kf1mK_"
   },
   "source": [
    "# Step 2: Prep your vector data"
   ]
  },
  {
   "cell_type": "markdown",
   "metadata": {
    "colab_type": "text",
    "id": "nJRFiGhI1mK_"
   },
   "source": [
    "## Step 2.1 Read in your vector data: GeoPandas"
   ]
  },
  {
   "cell_type": "markdown",
   "metadata": {
    "colab_type": "text",
    "id": "nyCloPks1mLA"
   },
   "source": [
    "Reading in tabular data is pretty simple. Just remember:\n",
    "* DataFrame = Pandas = `pd.read_csv()`\n",
    "* GeoDataFrame = DataFrame with geometry attribute = GeoPandas = `gpd.read_file()`"
   ]
  },
  {
   "cell_type": "code",
   "execution_count": null,
   "metadata": {
    "colab": {
     "base_uri": "https://localhost:8080/",
     "height": 205,
     "resources": {
      "http://localhost:8080/nbextensions/google.colab/files.js": {
       "data": "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",
       "headers": [
        [
         "content-type",
         "application/javascript"
        ]
       ],
       "ok": true,
       "status": 200,
       "status_text": ""
      }
     }
    },
    "colab_type": "code",
    "collapsed": true,
    "id": "ytyKh93J4cR3",
    "outputId": "40e334cd-63b3-4579-f444-7e01b962f8f5"
   },
   "outputs": [
    {
     "data": {
      "text/html": [
       "\n",
       "     <input type=\"file\" id=\"files-882911b1-9a53-43f9-a2a3-95f0a12c333c\" name=\"files[]\" multiple disabled />\n",
       "     <output id=\"result-882911b1-9a53-43f9-a2a3-95f0a12c333c\">\n",
       "      Upload widget is only available when the cell has been executed in the\n",
       "      current browser session. Please rerun this cell to enable.\n",
       "      </output>\n",
       "      <script src=\"/nbextensions/google.colab/files.js\"></script> "
      ],
      "text/plain": [
       "<IPython.core.display.HTML object>"
      ]
     },
     "metadata": {
      "tags": []
     },
     "output_type": "display_data"
    },
    {
     "name": "stdout",
     "output_type": "stream",
     "text": [
      "Saving WDPA_polygons.shx to WDPA_polygons.shx\n",
      "Saving WDPA_polygons.prj to WDPA_polygons.prj\n",
      "Saving WDPA_polygons.dbf to WDPA_polygons.dbf\n",
      "Saving WDPA_polygons.cpg to WDPA_polygons.cpg\n",
      "Saving WDPA_polygons.shp to WDPA_polygons.shp\n"
     ]
    }
   ],
   "source": [
    "# Loading my local files into Colaboratory (for demo only!)\n",
    "from google.colab import files\n",
    "uploaded = files.upload()"
   ]
  },
  {
   "cell_type": "code",
   "execution_count": 2,
   "metadata": {
    "colab": {},
    "colab_type": "code",
    "id": "6lZggwYl1mLB"
   },
   "outputs": [],
   "source": [
    "# Define your vector filepath\n",
    "conserve_fp = \"Data/shapefiles/WDPA_polygons.shp\"\n",
    "\n",
    "# Read vector data in as GeoDataFrame\n",
    "conserve = gpd.read_file(conserve_fp)"
   ]
  },
  {
   "cell_type": "markdown",
   "metadata": {
    "colab_type": "text",
    "id": "qiWCmE0T1mLD"
   },
   "source": [
    "Our first preprocessing step is to check on the data's projection. Projections can be tricky and I'm not going to delve too far into this topic here, but below are some basic steps for identifying and changing your data's projection (more details can be found [here](http://geopandas.org/projections.html))."
   ]
  },
  {
   "cell_type": "code",
   "execution_count": null,
   "metadata": {
    "colab": {
     "base_uri": "https://localhost:8080/",
     "height": 34
    },
    "colab_type": "code",
    "id": "D3IQ6kAJ1mLD",
    "outputId": "7ad02946-762c-41d9-c6af-3ff99809e22c"
   },
   "outputs": [
    {
     "data": {
      "text/plain": [
       "{'init': u'epsg:4326'}"
      ]
     },
     "execution_count": 27,
     "metadata": {
      "tags": []
     },
     "output_type": "execute_result"
    }
   ],
   "source": [
    "# Check the Coordinate Reference System (CRS)\n",
    "conserve.crs"
   ]
  },
  {
   "cell_type": "code",
   "execution_count": null,
   "metadata": {
    "colab": {},
    "colab_type": "code",
    "id": "j8m5oyP-1mLL"
   },
   "outputs": [],
   "source": [
    "# Change your CRS, for fun. Then change it back (because we like EPSG = 4326).\n",
    "conserve = conserve.to_crs(epsg=3857)\n",
    "conserve = conserve.to_crs(epsg=4326)"
   ]
  },
  {
   "cell_type": "markdown",
   "metadata": {
    "colab_type": "text",
    "id": "F82jApzI1mLO"
   },
   "source": [
    "### Exercise 2.1"
   ]
  },
  {
   "cell_type": "code",
   "execution_count": null,
   "metadata": {
    "colab": {},
    "colab_type": "code",
    "id": "4luBoD9C1mLO"
   },
   "outputs": [],
   "source": [
    "# Read in your WDPA shapefile as a GeoDataFrame.\n",
    "\n",
    "# Check the projection of your data."
   ]
  },
  {
   "cell_type": "markdown",
   "metadata": {
    "colab_type": "text",
    "id": "fD5yzPop1mLQ"
   },
   "source": [
    "## Step 2.2 Explore your vector data: GeoPandas"
   ]
  },
  {
   "cell_type": "markdown",
   "metadata": {
    "colab_type": "text",
    "id": "sn6Xos8T1mLS"
   },
   "source": [
    "We can use some basic exploratory functions in GeoPandas to query our data."
   ]
  },
  {
   "cell_type": "code",
   "execution_count": null,
   "metadata": {
    "colab": {
     "base_uri": "https://localhost:8080/",
     "height": 595
    },
    "colab_type": "code",
    "id": "zeCs2GRG1mLT",
    "outputId": "59a4bdec-58dc-4413-de43-6a1606fdc6a4"
   },
   "outputs": [
    {
     "name": "stdout",
     "output_type": "stream",
     "text": [
      "<class 'geopandas.geodataframe.GeoDataFrame'>\n",
      "RangeIndex: 143 entries, 0 to 142\n",
      "Data columns (total 29 columns):\n",
      "WDPAID        143 non-null float64\n",
      "WDPA_PID      143 non-null object\n",
      "PA_DEF        143 non-null object\n",
      "NAME          143 non-null object\n",
      "ORIG_NAME     143 non-null object\n",
      "DESIG         143 non-null object\n",
      "DESIG_ENG     143 non-null object\n",
      "DESIG_TYPE    143 non-null object\n",
      "IUCN_CAT      143 non-null object\n",
      "INT_CRIT      143 non-null object\n",
      "MARINE        143 non-null object\n",
      "REP_M_AREA    143 non-null float64\n",
      "GIS_M_AREA    143 non-null float64\n",
      "REP_AREA      143 non-null float64\n",
      "GIS_AREA      143 non-null float64\n",
      "NO_TAKE       143 non-null object\n",
      "NO_TK_AREA    143 non-null float64\n",
      "STATUS        143 non-null object\n",
      "STATUS_YR     143 non-null int64\n",
      "GOV_TYPE      143 non-null object\n",
      "OWN_TYPE      143 non-null object\n",
      "MANG_AUTH     143 non-null object\n",
      "MANG_PLAN     143 non-null object\n",
      "VERIF         143 non-null object\n",
      "METADATAID    143 non-null int64\n",
      "SUB_LOC       143 non-null object\n",
      "PARENT_ISO    143 non-null object\n",
      "ISO3          143 non-null object\n",
      "geometry      143 non-null object\n",
      "dtypes: float64(6), int64(2), object(21)\n",
      "memory usage: 32.5+ KB\n"
     ]
    }
   ],
   "source": [
    "# Look at all of the attributes in your dataset\n",
    "conserve.info()"
   ]
  },
  {
   "cell_type": "markdown",
   "metadata": {
    "colab_type": "text",
    "id": "tkiCTJZf1mLX"
   },
   "source": [
    "There are 143 data objects with 29 attributes, of various data types (object, float, integer). In the pandas world, data types break down like this:\n",
    "* dtype('O') = object = string\n",
    "* dtype('int64') = integer\n",
    "* dtype('float64') = float"
   ]
  },
  {
   "cell_type": "code",
   "execution_count": null,
   "metadata": {
    "colab": {
     "base_uri": "https://localhost:8080/",
     "height": 34
    },
    "colab_type": "code",
    "id": "u3qTTUvU1mLY",
    "outputId": "0fbe6597-c0d5-40ae-b1a2-2adf1d15b0a5"
   },
   "outputs": [
    {
     "data": {
      "text/plain": [
       "65255.47670531727"
      ]
     },
     "execution_count": 30,
     "metadata": {
      "tags": []
     },
     "output_type": "execute_result"
    }
   ],
   "source": [
    "# What is the total conserved area in the DR? Conserved area = \"GIS_AREA\" (we'll discuss how to use the inherent geometry of the GeoDataFrame to do this later).\n",
    "area_sum = conserve.GIS_AREA.sum()\n",
    "area_sum"
   ]
  },
  {
   "cell_type": "code",
   "execution_count": null,
   "metadata": {
    "colab": {
     "base_uri": "https://localhost:8080/",
     "height": 34
    },
    "colab_type": "code",
    "id": "GNZyFN0X1mLc",
    "outputId": "e5782a42-fdf4-45ce-83ca-2f454552dd46"
   },
   "outputs": [
    {
     "data": {
      "text/plain": [
       "35469.1970057065"
      ]
     },
     "execution_count": 31,
     "metadata": {
      "tags": []
     },
     "output_type": "execute_result"
    }
   ],
   "source": [
    "# What is the largest area conserved?\n",
    "area_max = conserve.GIS_AREA.max()\n",
    "area_max"
   ]
  },
  {
   "cell_type": "code",
   "execution_count": null,
   "metadata": {
    "colab": {
     "base_uri": "https://localhost:8080/",
     "height": 34
    },
    "colab_type": "code",
    "id": "EhTlDpWb1mLf",
    "outputId": "5f3f567b-27cc-4ce1-84c5-951b38a1dea0"
   },
   "outputs": [
    {
     "data": {
      "text/plain": [
       "0.007879848064912"
      ]
     },
     "execution_count": 32,
     "metadata": {
      "tags": []
     },
     "output_type": "execute_result"
    }
   ],
   "source": [
    "# What is the smallest area conserved?\n",
    "area_min = conserve.GIS_AREA.min()\n",
    "area_min"
   ]
  },
  {
   "cell_type": "code",
   "execution_count": null,
   "metadata": {
    "colab": {},
    "colab_type": "code",
    "id": "eWbK-61m1mLj",
    "outputId": "1631ba38-414d-4394-9fd6-9384c094a19c"
   },
   "outputs": [
    {
     "data": {
      "text/plain": [
       "array([u'2', u'1', u'0'], dtype=object)"
      ]
     },
     "execution_count": 10,
     "metadata": {
      "tags": []
     },
     "output_type": "execute_result"
    }
   ],
   "source": [
    "# What are the unique values for the \"MARINE\" attribute?\n",
    "conserve['MARINE'].unique()"
   ]
  },
  {
   "cell_type": "code",
   "execution_count": null,
   "metadata": {
    "colab": {
     "base_uri": "https://localhost:8080/",
     "height": 85
    },
    "colab_type": "code",
    "id": "FqKSPaqu1mLn",
    "outputId": "6bc609e9-660d-4213-f74e-c70b8010323f"
   },
   "outputs": [
    {
     "data": {
      "text/plain": [
       "0    109\n",
       "1     27\n",
       "2      7\n",
       "Name: MARINE, dtype: int64"
      ]
     },
     "execution_count": 33,
     "metadata": {
      "tags": []
     },
     "output_type": "execute_result"
    }
   ],
   "source": [
    "# How many different areas are \"Marine\" (2), \"Terrestrial\" (0), or both (1)?\n",
    "type_park = conserve['MARINE'].value_counts()\n",
    "type_park"
   ]
  },
  {
   "cell_type": "code",
   "execution_count": null,
   "metadata": {
    "colab": {
     "base_uri": "https://localhost:8080/",
     "height": 34
    },
    "colab_type": "code",
    "id": "DzWE-9Ky1mLq",
    "outputId": "3a477bcf-295d-45aa-cabe-29802c2f3fd7"
   },
   "outputs": [
    {
     "data": {
      "text/plain": [
       "'The total conserved area is 65255.4767053 square meters and there are 7 MPAs, 109 terrestrial areas, and 27 mixed areas'"
      ]
     },
     "execution_count": 34,
     "metadata": {
      "tags": []
     },
     "output_type": "execute_result"
    }
   ],
   "source": [
    "# Write all of this info into a string\n",
    "\"The total conserved area is {} square meters and there are {} MPAs, {} terrestrial areas, and {} mixed areas\".format(area_sum, type_park[\"2\"], type_park[\"0\"], type_park[\"1\"])"
   ]
  },
  {
   "cell_type": "markdown",
   "metadata": {
    "colab_type": "text",
    "id": "9zV-u_cC1mLs"
   },
   "source": [
    "### Exercise 2.2"
   ]
  },
  {
   "cell_type": "code",
   "execution_count": null,
   "metadata": {
    "colab": {},
    "colab_type": "code",
    "id": "EyfTJmGV1mLt"
   },
   "outputs": [],
   "source": [
    "# What are the options for park designation in English (\"DESIG_ENG\")?"
   ]
  },
  {
   "cell_type": "code",
   "execution_count": null,
   "metadata": {
    "colab": {},
    "colab_type": "code",
    "id": "sK7E6rjZ1mLv"
   },
   "outputs": [],
   "source": [
    "# How many different areas are designated as \"Wildlife Refuge\"?"
   ]
  },
  {
   "cell_type": "markdown",
   "metadata": {
    "colab_type": "text",
    "id": "o2QqMb171mLz"
   },
   "source": [
    "For a complete list of methods available for exploring GeoDataFrames, see [here](https://pandas.pydata.org/pandas-docs/stable/generated/pandas.Series.html)."
   ]
  },
  {
   "cell_type": "markdown",
   "metadata": {
    "colab_type": "text",
    "id": "qjl7rkUL1mL0"
   },
   "source": [
    "## Step 2.3 Plot your vector data: GeoPandas"
   ]
  },
  {
   "cell_type": "markdown",
   "metadata": {
    "colab_type": "text",
    "id": "-4UoYzZn1mL0"
   },
   "source": [
    "GeoPandas offers some basic plotting methods for quick visualization. You can create more advanced plots (with customizable layering, formatting) using the Matplotlib library. Matplotlib can be a bit confusing at first, so here's a [great tutorial](https://github.com/matplotlib/AnatomyOfMatplotlib/blob/master/AnatomyOfMatplotlib-Part1-Figures_Subplots_and_layouts.ipynb) if you want to learn more. As in R, you can also create interactive maps through [Leaflet](https://automating-gis-processes.github.io/2016/Lesson5-interactive-map-folium.html) and [Bokeh](https://automating-gis-processes.github.io/2016/Lesson5-interactive-map-bokeh.html)."
   ]
  },
  {
   "cell_type": "code",
   "execution_count": null,
   "metadata": {
    "colab": {
     "base_uri": "https://localhost:8080/",
     "height": 364
    },
    "colab_type": "code",
    "id": "gSHZDyO81mL1",
    "outputId": "340b697a-06c8-462c-c369-6809ed6e19d2"
   },
   "outputs": [
    {
     "data": {
      "text/plain": [
       "<matplotlib.axes._subplots.AxesSubplot at 0x7fe9f1bd1550>"
      ]
     },
     "execution_count": 35,
     "metadata": {
      "tags": []
     },
     "output_type": "execute_result"
    },
    {
     "data": {
      "image/png": "[encoded data removed]",
      "text/plain": [
       "<matplotlib.figure.Figure at 0x7fe9f1bd17d0>"
      ]
     },
     "metadata": {
      "tags": []
     },
     "output_type": "display_data"
    }
   ],
   "source": [
    "# Plot conservation areas\n",
    "conserve.plot()"
   ]
  },
  {
   "cell_type": "code",
   "execution_count": null,
   "metadata": {
    "colab": {
     "base_uri": "https://localhost:8080/",
     "height": 364
    },
    "colab_type": "code",
    "id": "nQGfTSlV1mL3",
    "outputId": "b1854e82-45c2-44ed-f79f-091c427b4606"
   },
   "outputs": [
    {
     "data": {
      "text/plain": [
       "<matplotlib.axes._subplots.AxesSubplot at 0x7fe9f1b12810>"
      ]
     },
     "execution_count": 36,
     "metadata": {
      "tags": []
     },
     "output_type": "execute_result"
    },
    {
     "data": {
      "image/png": "[encoded data removed]",
      "text/plain": [
       "<matplotlib.figure.Figure at 0x7fe9f1aeccd0>"
      ]
     },
     "metadata": {
      "tags": []
     },
     "output_type": "display_data"
    }
   ],
   "source": [
    "# Plot conservation areas as choropleth by park type\n",
    "conserve.plot(column = \"DESIG_ENG\", cmap = \"Paired\")"
   ]
  },
  {
   "cell_type": "code",
   "execution_count": null,
   "metadata": {
    "colab": {
     "base_uri": "https://localhost:8080/",
     "height": 364
    },
    "colab_type": "code",
    "id": "G6nX3UmE1mL5",
    "outputId": "993a8759-490a-46e6-c2da-2c99e1d122fa"
   },
   "outputs": [
    {
     "data": {
      "text/plain": [
       "<matplotlib.axes._subplots.AxesSubplot at 0x7fe9f1c1af50>"
      ]
     },
     "execution_count": 37,
     "metadata": {
      "tags": []
     },
     "output_type": "execute_result"
    },
    {
     "data": {
      "image/png": "[encoded data removed]",
      "text/plain": [
       "<matplotlib.figure.Figure at 0x7fe9f1c42390>"
      ]
     },
     "metadata": {
      "tags": []
     },
     "output_type": "display_data"
    }
   ],
   "source": [
    "# Change the palette! Color palettes: https://matplotlib.org/users/colormaps.html\n",
    "conserve.plot(column = \"DESIG_ENG\", cmap = \"hot\")"
   ]
  },
  {
   "cell_type": "code",
   "execution_count": null,
   "metadata": {
    "colab": {
     "base_uri": "https://localhost:8080/",
     "height": 364
    },
    "colab_type": "code",
    "id": "itP1yj0r1mL7",
    "outputId": "9f8b966c-a4fe-425d-83a2-c600d0240e7b"
   },
   "outputs": [
    {
     "data": {
      "text/plain": [
       "<matplotlib.axes._subplots.AxesSubplot at 0x7fe9f1a38ed0>"
      ]
     },
     "execution_count": 38,
     "metadata": {
      "tags": []
     },
     "output_type": "execute_result"
    },
    {
     "data": {
      "image/png": "[encoded data removed]",
      "text/plain": [
       "<matplotlib.figure.Figure at 0x7fe9f1cdc810>"
      ]
     },
     "metadata": {
      "tags": []
     },
     "output_type": "display_data"
    }
   ],
   "source": [
    "# Plot conservation areas where the area has a Use Management Plan.\n",
    "conserve[conserve['MANG_PLAN'] != \"No\"].plot()"
   ]
  },
  {
   "cell_type": "markdown",
   "metadata": {
    "colab_type": "text",
    "id": "wz7HOiZP1mL_"
   },
   "source": [
    "### Exercise 2.3"
   ]
  },
  {
   "cell_type": "code",
   "execution_count": null,
   "metadata": {
    "colab": {},
    "colab_type": "code",
    "id": "9g8pH6vZ1mL_"
   },
   "outputs": [],
   "source": [
    "# Plot conservation areas as a choropleth by the \"MARINE\" attribute"
   ]
  },
  {
   "cell_type": "code",
   "execution_count": null,
   "metadata": {
    "colab": {},
    "colab_type": "code",
    "id": "_HjXmxEf1mMB"
   },
   "outputs": [],
   "source": [
    "# Make it blue (obviously)! https://matplotlib.org/users/colormaps.html"
   ]
  },
  {
   "cell_type": "markdown",
   "metadata": {
    "colab_type": "text",
    "id": "DVjnH-z71mMD"
   },
   "source": [
    "## Step 2.4 Filter your vector data: GeoPandas"
   ]
  },
  {
   "cell_type": "markdown",
   "metadata": {
    "colab_type": "text",
    "id": "sToRQcBk1mME"
   },
   "source": [
    "**Looking above at our \"To Do\" list, our first task was this:** \"Filter the WDPA database to find only conservation areas for the marine environment (Marine Protected Areas).\"\n",
    "\n",
    "In R-speak, we're using Python to `dplyr::filter`. To subset data in Python, we use the `loc` and `iloc` indexing tools. Documentation can be found [here](http://pandas.pydata.org/pandas-docs/version/0.17/generated/pandas.DataFrame.drop_duplicates.html) under \"Indexing and Selecting Data\" (basically the Python version of R's Data Wrangling cheat sheet).\n",
    "\n",
    "The basics are this:\n",
    "* `iloc` selects data on a known index (integer value). Example: `iris.iloc[7]` would select the 8th row of data.\n",
    "* `loc` selects data on a known label. Example `iris.loc['sepal_length'>7]` selects data with sepal length over 7 centimeters.\n",
    "\n",
    "Let's try it out:"
   ]
  },
  {
   "cell_type": "code",
   "execution_count": null,
   "metadata": {
    "colab": {
     "base_uri": "https://localhost:8080/",
     "height": 395
    },
    "colab_type": "code",
    "id": "RAWvIK6O1mME",
    "outputId": "629cad54-ecec-485d-a2f4-0b9a1e237064"
   },
   "outputs": [
    {
     "data": {
      "text/html": [
       "<div>\n",
       "<style scoped>\n",
       "    .dataframe tbody tr th:only-of-type {\n",
       "        vertical-align: middle;\n",
       "    }\n",
       "\n",
       "    .dataframe tbody tr th {\n",
       "        vertical-align: top;\n",
       "    }\n",
       "\n",
       "    .dataframe thead th {\n",
       "        text-align: right;\n",
       "    }\n",
       "</style>\n",
       "<table border=\"1\" class=\"dataframe\">\n",
       "  <thead>\n",
       "    <tr style=\"text-align: right;\">\n",
       "      <th></th>\n",
       "      <th>WDPAID</th>\n",
       "      <th>WDPA_PID</th>\n",
       "      <th>PA_DEF</th>\n",
       "      <th>NAME</th>\n",
       "      <th>ORIG_NAME</th>\n",
       "      <th>DESIG</th>\n",
       "      <th>DESIG_ENG</th>\n",
       "      <th>DESIG_TYPE</th>\n",
       "      <th>IUCN_CAT</th>\n",
       "      <th>INT_CRIT</th>\n",
       "      <th>...</th>\n",
       "      <th>GOV_TYPE</th>\n",
       "      <th>OWN_TYPE</th>\n",
       "      <th>MANG_AUTH</th>\n",
       "      <th>MANG_PLAN</th>\n",
       "      <th>VERIF</th>\n",
       "      <th>METADATAID</th>\n",
       "      <th>SUB_LOC</th>\n",
       "      <th>PARENT_ISO</th>\n",
       "      <th>ISO3</th>\n",
       "      <th>geometry</th>\n",
       "    </tr>\n",
       "  </thead>\n",
       "  <tbody>\n",
       "    <tr>\n",
       "      <th>0</th>\n",
       "      <td>555624222.0</td>\n",
       "      <td>555624222</td>\n",
       "      <td>1</td>\n",
       "      <td>La Caleta</td>\n",
       "      <td>La Caleta</td>\n",
       "      <td>Specially Protected Area (Cartagena Convention)</td>\n",
       "      <td>Specially Protected Area (Cartagena Convention)</td>\n",
       "      <td>Regional</td>\n",
       "      <td>II</td>\n",
       "      <td>Not Applicable</td>\n",
       "      <td>...</td>\n",
       "      <td>Federal or national ministry or agency</td>\n",
       "      <td>Not Reported</td>\n",
       "      <td>Secretaria de Estado de Medio Ambiente y Recur...</td>\n",
       "      <td>http://www.spaw-palisting.org/area_public/show...</td>\n",
       "      <td>State Verified</td>\n",
       "      <td>1900</td>\n",
       "      <td>Marine</td>\n",
       "      <td>DOM</td>\n",
       "      <td>DOM</td>\n",
       "      <td>POLYGON ((-69.70475633263862 18.45382580331822...</td>\n",
       "    </tr>\n",
       "    <tr>\n",
       "      <th>1</th>\n",
       "      <td>555624132.0</td>\n",
       "      <td>555624132</td>\n",
       "      <td>1</td>\n",
       "      <td>Humedales de Jaragua</td>\n",
       "      <td>Humedales de Jaragua</td>\n",
       "      <td>Ramsar Site, Wetland of International Importance</td>\n",
       "      <td>Ramsar Site, Wetland of International Importance</td>\n",
       "      <td>International</td>\n",
       "      <td>Not Reported</td>\n",
       "      <td>(ii) (iv) (vii) (viii)</td>\n",
       "      <td>...</td>\n",
       "      <td>Not Reported</td>\n",
       "      <td>Not Reported</td>\n",
       "      <td>Not Reported</td>\n",
       "      <td>https://rsis.ramsar.org/ris/2210</td>\n",
       "      <td>State Verified</td>\n",
       "      <td>1856</td>\n",
       "      <td>Not Reported</td>\n",
       "      <td>DOM</td>\n",
       "      <td>DOM</td>\n",
       "      <td>(POLYGON ((-71.53151544068498 17.7571400007105...</td>\n",
       "    </tr>\n",
       "    <tr>\n",
       "      <th>2</th>\n",
       "      <td>555624219.0</td>\n",
       "      <td>555624219</td>\n",
       "      <td>1</td>\n",
       "      <td>Los Haitises</td>\n",
       "      <td>Los Haitises</td>\n",
       "      <td>Specially Protected Area (Cartagena Convention)</td>\n",
       "      <td>Specially Protected Area (Cartagena Convention)</td>\n",
       "      <td>Regional</td>\n",
       "      <td>II</td>\n",
       "      <td>Not Applicable</td>\n",
       "      <td>...</td>\n",
       "      <td>Federal or national ministry or agency</td>\n",
       "      <td>Not Reported</td>\n",
       "      <td>Secretaria de Estado de Medio Ambiente y Recur...</td>\n",
       "      <td>http://www.spaw-palisting.org/area_public/show...</td>\n",
       "      <td>State Verified</td>\n",
       "      <td>1900</td>\n",
       "      <td>Marine</td>\n",
       "      <td>DOM</td>\n",
       "      <td>DOM</td>\n",
       "      <td>(POLYGON ((-69.87710541868012 19.1207403670743...</td>\n",
       "    </tr>\n",
       "  </tbody>\n",
       "</table>\n",
       "<p>3 rows × 29 columns</p>\n",
       "</div>"
      ],
      "text/plain": [
       "        WDPAID   WDPA_PID PA_DEF                  NAME             ORIG_NAME  \\\n",
       "0  555624222.0  555624222      1             La Caleta             La Caleta   \n",
       "1  555624132.0  555624132      1  Humedales de Jaragua  Humedales de Jaragua   \n",
       "2  555624219.0  555624219      1          Los Haitises          Los Haitises   \n",
       "\n",
       "                                              DESIG  \\\n",
       "0   Specially Protected Area (Cartagena Convention)   \n",
       "1  Ramsar Site, Wetland of International Importance   \n",
       "2   Specially Protected Area (Cartagena Convention)   \n",
       "\n",
       "                                          DESIG_ENG     DESIG_TYPE  \\\n",
       "0   Specially Protected Area (Cartagena Convention)       Regional   \n",
       "1  Ramsar Site, Wetland of International Importance  International   \n",
       "2   Specially Protected Area (Cartagena Convention)       Regional   \n",
       "\n",
       "       IUCN_CAT                INT_CRIT  \\\n",
       "0            II          Not Applicable   \n",
       "1  Not Reported  (ii) (iv) (vii) (viii)   \n",
       "2            II          Not Applicable   \n",
       "\n",
       "                         ...                          \\\n",
       "0                        ...                           \n",
       "1                        ...                           \n",
       "2                        ...                           \n",
       "\n",
       "                                 GOV_TYPE      OWN_TYPE  \\\n",
       "0  Federal or national ministry or agency  Not Reported   \n",
       "1                            Not Reported  Not Reported   \n",
       "2  Federal or national ministry or agency  Not Reported   \n",
       "\n",
       "                                           MANG_AUTH  \\\n",
       "0  Secretaria de Estado de Medio Ambiente y Recur...   \n",
       "1                                       Not Reported   \n",
       "2  Secretaria de Estado de Medio Ambiente y Recur...   \n",
       "\n",
       "                                           MANG_PLAN           VERIF  \\\n",
       "0  http://www.spaw-palisting.org/area_public/show...  State Verified   \n",
       "1                   https://rsis.ramsar.org/ris/2210  State Verified   \n",
       "2  http://www.spaw-palisting.org/area_public/show...  State Verified   \n",
       "\n",
       "  METADATAID       SUB_LOC PARENT_ISO  ISO3  \\\n",
       "0       1900        Marine        DOM   DOM   \n",
       "1       1856  Not Reported        DOM   DOM   \n",
       "2       1900        Marine        DOM   DOM   \n",
       "\n",
       "                                            geometry  \n",
       "0  POLYGON ((-69.70475633263862 18.45382580331822...  \n",
       "1  (POLYGON ((-71.53151544068498 17.7571400007105...  \n",
       "2  (POLYGON ((-69.87710541868012 19.1207403670743...  \n",
       "\n",
       "[3 rows x 29 columns]"
      ]
     },
     "execution_count": 39,
     "metadata": {
      "tags": []
     },
     "output_type": "execute_result"
    }
   ],
   "source": [
    "# Take a look at our first few lines of data\n",
    "conserve.head(3)"
   ]
  },
  {
   "cell_type": "code",
   "execution_count": null,
   "metadata": {
    "colab": {
     "base_uri": "https://localhost:8080/",
     "height": 85
    },
    "colab_type": "code",
    "id": "U2j4WUyq1mMH",
    "outputId": "0ffa90fc-bee9-4a22-8dbd-684ca4e664d1"
   },
   "outputs": [
    {
     "data": {
      "text/plain": [
       "0               La Caleta\n",
       "1    Humedales de Jaragua\n",
       "2            Los Haitises\n",
       "Name: NAME, dtype: object"
      ]
     },
     "execution_count": 40,
     "metadata": {
      "tags": []
     },
     "output_type": "execute_result"
    }
   ],
   "source": [
    "# Select rows 0 through 2, column 4\n",
    "conserve.iloc[0:3, 3]"
   ]
  },
  {
   "cell_type": "code",
   "execution_count": null,
   "metadata": {
    "colab": {
     "base_uri": "https://localhost:8080/",
     "height": 173
    },
    "colab_type": "code",
    "id": "11muwsJe1mMJ",
    "outputId": "dea9deb3-2e1e-4a7b-ada1-42bcf97ef8c5"
   },
   "outputs": [
    {
     "data": {
      "text/html": [
       "<div>\n",
       "<style scoped>\n",
       "    .dataframe tbody tr th:only-of-type {\n",
       "        vertical-align: middle;\n",
       "    }\n",
       "\n",
       "    .dataframe tbody tr th {\n",
       "        vertical-align: top;\n",
       "    }\n",
       "\n",
       "    .dataframe thead th {\n",
       "        text-align: right;\n",
       "    }\n",
       "</style>\n",
       "<table border=\"1\" class=\"dataframe\">\n",
       "  <thead>\n",
       "    <tr style=\"text-align: right;\">\n",
       "      <th></th>\n",
       "      <th>NAME</th>\n",
       "      <th>METADATAID</th>\n",
       "    </tr>\n",
       "  </thead>\n",
       "  <tbody>\n",
       "    <tr>\n",
       "      <th>3</th>\n",
       "      <td>Jaragua</td>\n",
       "      <td>1900</td>\n",
       "    </tr>\n",
       "    <tr>\n",
       "      <th>4</th>\n",
       "      <td>Sierra de Bahoruco</td>\n",
       "      <td>1900</td>\n",
       "    </tr>\n",
       "    <tr>\n",
       "      <th>5</th>\n",
       "      <td>Carretera Cabral - Polo</td>\n",
       "      <td>830</td>\n",
       "    </tr>\n",
       "    <tr>\n",
       "      <th>6</th>\n",
       "      <td>Carretera Nagua - Sánchez</td>\n",
       "      <td>830</td>\n",
       "    </tr>\n",
       "  </tbody>\n",
       "</table>\n",
       "</div>"
      ],
      "text/plain": [
       "                        NAME  METADATAID\n",
       "3                    Jaragua        1900\n",
       "4         Sierra de Bahoruco        1900\n",
       "5    Carretera Cabral - Polo         830\n",
       "6  Carretera Nagua - Sánchez         830"
      ]
     },
     "execution_count": 41,
     "metadata": {
      "tags": []
     },
     "output_type": "execute_result"
    }
   ],
   "source": [
    "# Select index value 3 THROUGH 6 for name and metadata ID\n",
    "conserve.loc[3:6, ['NAME','METADATAID']]"
   ]
  },
  {
   "cell_type": "code",
   "execution_count": null,
   "metadata": {
    "colab": {
     "base_uri": "https://localhost:8080/",
     "height": 111
    },
    "colab_type": "code",
    "id": "5Say35Et1mMK",
    "outputId": "e97d48ed-9b90-443c-a4d6-b0987c66878c"
   },
   "outputs": [
    {
     "data": {
      "text/html": [
       "<div>\n",
       "<style scoped>\n",
       "    .dataframe tbody tr th:only-of-type {\n",
       "        vertical-align: middle;\n",
       "    }\n",
       "\n",
       "    .dataframe tbody tr th {\n",
       "        vertical-align: top;\n",
       "    }\n",
       "\n",
       "    .dataframe thead th {\n",
       "        text-align: right;\n",
       "    }\n",
       "</style>\n",
       "<table border=\"1\" class=\"dataframe\">\n",
       "  <thead>\n",
       "    <tr style=\"text-align: right;\">\n",
       "      <th></th>\n",
       "      <th>NAME</th>\n",
       "      <th>METADATAID</th>\n",
       "    </tr>\n",
       "  </thead>\n",
       "  <tbody>\n",
       "    <tr>\n",
       "      <th>3</th>\n",
       "      <td>Jaragua</td>\n",
       "      <td>1900</td>\n",
       "    </tr>\n",
       "    <tr>\n",
       "      <th>6</th>\n",
       "      <td>Carretera Nagua - Sánchez</td>\n",
       "      <td>830</td>\n",
       "    </tr>\n",
       "  </tbody>\n",
       "</table>\n",
       "</div>"
      ],
      "text/plain": [
       "                        NAME  METADATAID\n",
       "3                    Jaragua        1900\n",
       "6  Carretera Nagua - Sánchez         830"
      ]
     },
     "execution_count": 42,
     "metadata": {
      "tags": []
     },
     "output_type": "execute_result"
    }
   ],
   "source": [
    "# Select indices 3 AND 6 for name and metadata ID\n",
    "conserve.loc[[3,6], ['NAME','METADATAID']]"
   ]
  },
  {
   "cell_type": "code",
   "execution_count": null,
   "metadata": {
    "colab": {
     "base_uri": "https://localhost:8080/",
     "height": 279
    },
    "colab_type": "code",
    "id": "2UxUi_fA1mMN",
    "outputId": "14de254c-4c68-407d-fc8a-8a0e69dc4db8"
   },
   "outputs": [
    {
     "data": {
      "text/html": [
       "<div>\n",
       "<style scoped>\n",
       "    .dataframe tbody tr th:only-of-type {\n",
       "        vertical-align: middle;\n",
       "    }\n",
       "\n",
       "    .dataframe tbody tr th {\n",
       "        vertical-align: top;\n",
       "    }\n",
       "\n",
       "    .dataframe thead th {\n",
       "        text-align: right;\n",
       "    }\n",
       "</style>\n",
       "<table border=\"1\" class=\"dataframe\">\n",
       "  <thead>\n",
       "    <tr style=\"text-align: right;\">\n",
       "      <th></th>\n",
       "      <th>WDPAID</th>\n",
       "      <th>WDPA_PID</th>\n",
       "      <th>PA_DEF</th>\n",
       "      <th>NAME</th>\n",
       "      <th>ORIG_NAME</th>\n",
       "      <th>DESIG</th>\n",
       "      <th>DESIG_ENG</th>\n",
       "      <th>DESIG_TYPE</th>\n",
       "      <th>IUCN_CAT</th>\n",
       "      <th>INT_CRIT</th>\n",
       "      <th>...</th>\n",
       "      <th>GOV_TYPE</th>\n",
       "      <th>OWN_TYPE</th>\n",
       "      <th>MANG_AUTH</th>\n",
       "      <th>MANG_PLAN</th>\n",
       "      <th>VERIF</th>\n",
       "      <th>METADATAID</th>\n",
       "      <th>SUB_LOC</th>\n",
       "      <th>PARENT_ISO</th>\n",
       "      <th>ISO3</th>\n",
       "      <th>geometry</th>\n",
       "    </tr>\n",
       "  </thead>\n",
       "  <tbody>\n",
       "    <tr>\n",
       "      <th>3</th>\n",
       "      <td>555624220.0</td>\n",
       "      <td>555624220</td>\n",
       "      <td>1</td>\n",
       "      <td>Jaragua</td>\n",
       "      <td>Jaragua</td>\n",
       "      <td>Specially Protected Area (Cartagena Convention)</td>\n",
       "      <td>Specially Protected Area (Cartagena Convention)</td>\n",
       "      <td>Regional</td>\n",
       "      <td>II</td>\n",
       "      <td>Not Applicable</td>\n",
       "      <td>...</td>\n",
       "      <td>Federal or national ministry or agency</td>\n",
       "      <td>Not Reported</td>\n",
       "      <td>Secretaria de Estado de Medio Ambiente y Recur...</td>\n",
       "      <td>http://www.spaw-palisting.org/area_public/show...</td>\n",
       "      <td>State Verified</td>\n",
       "      <td>1900</td>\n",
       "      <td>Marine</td>\n",
       "      <td>DOM</td>\n",
       "      <td>DOM</td>\n",
       "      <td>POLYGON ((-71.6339539899846 18.07129016161172,...</td>\n",
       "    </tr>\n",
       "    <tr>\n",
       "      <th>111</th>\n",
       "      <td>6673.0</td>\n",
       "      <td>6673</td>\n",
       "      <td>1</td>\n",
       "      <td>Jaragua</td>\n",
       "      <td>Jaragua</td>\n",
       "      <td>Parque Nacional</td>\n",
       "      <td>National Park</td>\n",
       "      <td>National</td>\n",
       "      <td>II</td>\n",
       "      <td>Not Applicable</td>\n",
       "      <td>...</td>\n",
       "      <td>Federal or national ministry or agency</td>\n",
       "      <td>Not Reported</td>\n",
       "      <td>Not Reported</td>\n",
       "      <td>Yes, 2015</td>\n",
       "      <td>State Verified</td>\n",
       "      <td>830</td>\n",
       "      <td>Not Reported</td>\n",
       "      <td>DOM</td>\n",
       "      <td>DOM</td>\n",
       "      <td>POLYGON ((-71.67048912077627 18.08464303634707...</td>\n",
       "    </tr>\n",
       "  </tbody>\n",
       "</table>\n",
       "<p>2 rows × 29 columns</p>\n",
       "</div>"
      ],
      "text/plain": [
       "          WDPAID   WDPA_PID PA_DEF     NAME ORIG_NAME  \\\n",
       "3    555624220.0  555624220      1  Jaragua   Jaragua   \n",
       "111       6673.0       6673      1  Jaragua   Jaragua   \n",
       "\n",
       "                                               DESIG  \\\n",
       "3    Specially Protected Area (Cartagena Convention)   \n",
       "111                                  Parque Nacional   \n",
       "\n",
       "                                           DESIG_ENG DESIG_TYPE IUCN_CAT  \\\n",
       "3    Specially Protected Area (Cartagena Convention)   Regional       II   \n",
       "111                                    National Park   National       II   \n",
       "\n",
       "           INT_CRIT                        ...                          \\\n",
       "3    Not Applicable                        ...                           \n",
       "111  Not Applicable                        ...                           \n",
       "\n",
       "                                   GOV_TYPE      OWN_TYPE  \\\n",
       "3    Federal or national ministry or agency  Not Reported   \n",
       "111  Federal or national ministry or agency  Not Reported   \n",
       "\n",
       "                                             MANG_AUTH  \\\n",
       "3    Secretaria de Estado de Medio Ambiente y Recur...   \n",
       "111                                       Not Reported   \n",
       "\n",
       "                                             MANG_PLAN           VERIF  \\\n",
       "3    http://www.spaw-palisting.org/area_public/show...  State Verified   \n",
       "111                                          Yes, 2015  State Verified   \n",
       "\n",
       "    METADATAID       SUB_LOC PARENT_ISO  ISO3  \\\n",
       "3         1900        Marine        DOM   DOM   \n",
       "111        830  Not Reported        DOM   DOM   \n",
       "\n",
       "                                              geometry  \n",
       "3    POLYGON ((-71.6339539899846 18.07129016161172,...  \n",
       "111  POLYGON ((-71.67048912077627 18.08464303634707...  \n",
       "\n",
       "[2 rows x 29 columns]"
      ]
     },
     "execution_count": 43,
     "metadata": {
      "tags": []
     },
     "output_type": "execute_result"
    }
   ],
   "source": [
    "# Filter DataFrame for only those areas with the name \"Jaragua\"\n",
    "conserve.loc[conserve['NAME'] == \"Jaragua\"]"
   ]
  },
  {
   "cell_type": "markdown",
   "metadata": {
    "colab_type": "text",
    "id": "tjw_VO0H1mMO"
   },
   "source": [
    "The WDPA Data Dictionary that Marine Protected Areas are coded by the ordinal `MARINE` attribute, defined as follows:\n",
    "* 0 = 100% terrestrial PA\n",
    "* 1 = Coastal: marine and terrestrial PA\n",
    "* 2 = 100 % marine PA\n",
    "\n",
    "Let's subset our data by *only* those rows that represent 100% MPAs."
   ]
  },
  {
   "cell_type": "code",
   "execution_count": null,
   "metadata": {
    "colab": {
     "base_uri": "https://localhost:8080/",
     "height": 34
    },
    "colab_type": "code",
    "id": "gRHgeUtc1mMP",
    "outputId": "28b4a8b0-db81-4c82-d85a-fec64506ec24"
   },
   "outputs": [
    {
     "data": {
      "text/plain": [
       "7"
      ]
     },
     "execution_count": 44,
     "metadata": {
      "tags": []
     },
     "output_type": "execute_result"
    }
   ],
   "source": [
    "# Select only 100% marine protected areas\n",
    "mpa = conserve.loc[conserve['MARINE'] == '2']\n",
    "len(mpa)"
   ]
  },
  {
   "cell_type": "code",
   "execution_count": null,
   "metadata": {
    "colab": {
     "base_uri": "https://localhost:8080/",
     "height": 266
    },
    "colab_type": "code",
    "id": "0IduLWU-1mMR",
    "outputId": "5362b713-1833-46c2-d6aa-bb531661d543"
   },
   "outputs": [
    {
     "data": {
      "text/html": [
       "<div>\n",
       "<style scoped>\n",
       "    .dataframe tbody tr th:only-of-type {\n",
       "        vertical-align: middle;\n",
       "    }\n",
       "\n",
       "    .dataframe tbody tr th {\n",
       "        vertical-align: top;\n",
       "    }\n",
       "\n",
       "    .dataframe thead th {\n",
       "        text-align: right;\n",
       "    }\n",
       "</style>\n",
       "<table border=\"1\" class=\"dataframe\">\n",
       "  <thead>\n",
       "    <tr style=\"text-align: right;\">\n",
       "      <th></th>\n",
       "      <th>MARINE</th>\n",
       "      <th>NAME</th>\n",
       "    </tr>\n",
       "  </thead>\n",
       "  <tbody>\n",
       "    <tr>\n",
       "      <th>0</th>\n",
       "      <td>2</td>\n",
       "      <td>La Caleta</td>\n",
       "    </tr>\n",
       "    <tr>\n",
       "      <th>3</th>\n",
       "      <td>2</td>\n",
       "      <td>Jaragua</td>\n",
       "    </tr>\n",
       "    <tr>\n",
       "      <th>80</th>\n",
       "      <td>2</td>\n",
       "      <td>Submarino Monte Cristi</td>\n",
       "    </tr>\n",
       "    <tr>\n",
       "      <th>113</th>\n",
       "      <td>2</td>\n",
       "      <td>Cayos Siete Hermanos</td>\n",
       "    </tr>\n",
       "    <tr>\n",
       "      <th>116</th>\n",
       "      <td>2</td>\n",
       "      <td>Arrecifes del Suroeste</td>\n",
       "    </tr>\n",
       "    <tr>\n",
       "      <th>117</th>\n",
       "      <td>2</td>\n",
       "      <td>Arrecifes del Sureste</td>\n",
       "    </tr>\n",
       "    <tr>\n",
       "      <th>139</th>\n",
       "      <td>2</td>\n",
       "      <td>Santuario de los Bancos de La Plata y La Navidad</td>\n",
       "    </tr>\n",
       "  </tbody>\n",
       "</table>\n",
       "</div>"
      ],
      "text/plain": [
       "    MARINE                                              NAME\n",
       "0        2                                         La Caleta\n",
       "3        2                                           Jaragua\n",
       "80       2                            Submarino Monte Cristi\n",
       "113      2                              Cayos Siete Hermanos\n",
       "116      2                            Arrecifes del Suroeste\n",
       "117      2                             Arrecifes del Sureste\n",
       "139      2  Santuario de los Bancos de La Plata y La Navidad"
      ]
     },
     "execution_count": 45,
     "metadata": {
      "tags": []
     },
     "output_type": "execute_result"
    }
   ],
   "source": [
    "mpa[['MARINE', 'NAME']]"
   ]
  },
  {
   "cell_type": "markdown",
   "metadata": {
    "colab_type": "text",
    "id": "5b6roE2-1mMT"
   },
   "source": [
    "Our resulting DataFrame contains vector data for 7 MPAs in the Dominican Republic."
   ]
  },
  {
   "cell_type": "markdown",
   "metadata": {
    "colab_type": "text",
    "id": "WsT9hcld1mMT"
   },
   "source": [
    "## Before we move on..."
   ]
  },
  {
   "cell_type": "markdown",
   "metadata": {
    "colab_type": "text",
    "id": "5ioV6gzT1mMT"
   },
   "source": [
    "**Can you \"pipe\" in Python?** Yes and no. You won't see any \"%>%\" business in Python, but Python syntax allows you to string together multiple operations. The Python mantra is that \"everything is an object\", meaning everything (strings, dataframes, lists, functions, even modules) can be assigned to a variable or passed as an argument to a function.\n",
    "\n",
    "Confusing? Take a look at our code above. We're running multiple operations through our \"conserve\" geodataframe, like: 1) reprojecting it, 2) filtering it, and 3) plotting it. In R, \"piping\" might look something like:"
   ]
  },
  {
   "cell_type": "markdown",
   "metadata": {
    "colab_type": "text",
    "id": "aw07fuqg1mMU"
   },
   "source": [
    "```st_transform(conserve, 4326) %>% \n",
    "    dplyr::filter(\"MARINE\" == \"2\") %>%\n",
    "    dplyr::select(\"MARINE\",\"NAME\", \"geometry\") %>%\n",
    "    plot(\"MARINE\")```\n",
    "    \n",
    "In Python, \"piping\" looks like this:\n",
    "\n",
    "```conserve.to_crs(epsg=4326).loc[3:6][['MARINE','NAME','geometry']].plot(column=\"MARINE\")```\n",
    "\n",
    "Since \"everything is an object\" in Python, the result of each operation can stand as an object in a subsequent function. You can see that this line of code simply combines the functions we used in Step 2.2. Let's see if it works."
   ]
  },
  {
   "cell_type": "code",
   "execution_count": null,
   "metadata": {
    "colab": {
     "base_uri": "https://localhost:8080/",
     "height": 364
    },
    "colab_type": "code",
    "id": "X_mva1zD1mMV",
    "outputId": "db97941b-4524-443c-c45c-ef9037e5f5a9"
   },
   "outputs": [
    {
     "data": {
      "text/plain": [
       "<matplotlib.axes._subplots.AxesSubplot at 0x7fe9f2f88b90>"
      ]
     },
     "execution_count": 46,
     "metadata": {
      "tags": []
     },
     "output_type": "execute_result"
    },
    {
     "data": {
      "image/png": "[encoded data removed]",
      "text/plain": [
       "<matplotlib.figure.Figure at 0x7fe9f1c8cc50>"
      ]
     },
     "metadata": {
      "tags": []
     },
     "output_type": "display_data"
    }
   ],
   "source": [
    "conserve.to_crs(epsg=4326).loc[3:6][['MARINE','NAME','geometry']].plot(column=\"MARINE\")"
   ]
  },
  {
   "cell_type": "markdown",
   "metadata": {
    "colab_type": "text",
    "id": "xtKTG_Jd1mMZ"
   },
   "source": [
    "Woohoo!"
   ]
  },
  {
   "cell_type": "markdown",
   "metadata": {
    "colab_type": "text",
    "id": "wOsgN1Ju1mMa"
   },
   "source": [
    "## Also before we move on..."
   ]
  },
  {
   "cell_type": "markdown",
   "metadata": {
    "colab_type": "text",
    "id": "Bc1bG_f61mMa"
   },
   "source": [
    "**You can also perform call kinds of operations using the 'geometry' column (every GeoDataFrame has one).**\n",
    "Above, we used the dataset's \"GIS_AREA\" attribute to run summary statistics. This is because the WDPA dataset uses its own methodology and decision factors for calculating polygon areas. Most datasets won't be this finicky.\n",
    "\n",
    "The \"geometry\" column contains a Shapely geometry object (point, polygon, multi-point, multi-polygon, etc.) and is usually automatically detected when GeoPandas reads in your shapefile. But be careful! The geometry column won't always be called \"geometry\". Use the \"name\" method to double check. If GeoPandas chooses the wrong column for geometry, use the `set_geometry` method to specify which column to use."
   ]
  },
  {
   "cell_type": "code",
   "execution_count": null,
   "metadata": {
    "colab": {
     "base_uri": "https://localhost:8080/",
     "height": 119
    },
    "colab_type": "code",
    "id": "OLmolzi21mMa",
    "outputId": "30b73ebb-789c-4b45-a8f2-34b436f7ec73"
   },
   "outputs": [
    {
     "data": {
      "text/plain": [
       "0    POLYGON ((-69.70475633263862 18.45382580331822...\n",
       "1    (POLYGON ((-71.53151544068498 17.7571400007105...\n",
       "2    (POLYGON ((-69.87710541868012 19.1207403670743...\n",
       "3    POLYGON ((-71.6339539899846 18.07129016161172,...\n",
       "4    POLYGON ((-71.49641143973611 17.93031775625951...\n",
       "Name: geometry, dtype: object"
      ]
     },
     "execution_count": 47,
     "metadata": {
      "tags": []
     },
     "output_type": "execute_result"
    }
   ],
   "source": [
    "# Call your geometry attribute and find its Shapely geometry type\n",
    "conserve.geometry.head()"
   ]
  },
  {
   "cell_type": "code",
   "execution_count": null,
   "metadata": {
    "colab": {
     "base_uri": "https://localhost:8080/",
     "height": 34
    },
    "colab_type": "code",
    "id": "5ulFxqi91mMf",
    "outputId": "1a19316e-c21a-423d-e655-4b3aa723e4a5"
   },
   "outputs": [
    {
     "data": {
      "text/plain": [
       "'geometry'"
      ]
     },
     "execution_count": 48,
     "metadata": {
      "tags": []
     },
     "output_type": "execute_result"
    }
   ],
   "source": [
    "# Check which column GeoPandas has chosen as the \"geometry\" attribute\n",
    "conserve.geometry.name"
   ]
  },
  {
   "cell_type": "code",
   "execution_count": null,
   "metadata": {
    "colab": {
     "base_uri": "https://localhost:8080/",
     "height": 34
    },
    "colab_type": "code",
    "id": "cpqmpSog1mMh",
    "outputId": "1700a7c6-d1a0-4d94-886b-33b929ecb6ba"
   },
   "outputs": [
    {
     "data": {
      "text/plain": [
       "'geometry'"
      ]
     },
     "execution_count": 49,
     "metadata": {
      "tags": []
     },
     "output_type": "execute_result"
    }
   ],
   "source": [
    "# Change if necessary (not necessary in our case, so this code is redundant)\n",
    "conserve.set_geometry(\"geometry\")\n",
    "conserve.geometry.name"
   ]
  },
  {
   "cell_type": "markdown",
   "metadata": {
    "colab_type": "text",
    "id": "RxfEIGLS1mMl"
   },
   "source": [
    "# Step 3: Prep your raster data"
   ]
  },
  {
   "cell_type": "markdown",
   "metadata": {
    "colab_type": "text",
    "id": "y3_7oebp1mMl"
   },
   "source": [
    "## Step 3.1 Read in your raster data: Numpy and OpticalRS"
   ]
  },
  {
   "cell_type": "markdown",
   "metadata": {
    "colab_type": "text",
    "id": "R2G2-U-T1mMm"
   },
   "source": [
    "**Let's turn our attention to our raster data.** One of my favorite parts of Python is its ability to manipulate raster data. By turning a raster into an object called a NumPy array, you can directly access the matrix of values within raster pixels, analyzing and filtering raster data in [all kinds of ways](https://docs.scipy.org/doc/numpy/user/quickstart.html) within the expansive SciPy library. Arrays are also compatible with GeoPandas, so you don't have to worry about converting your vector data into SpatialPolygonsDataFrames (or whatever) to play well with rasters.\n",
    "\n",
    "To turn our raster file into a numpy array, we'll use a library called OpticalRS by Jared Kibele found [here](https://github.com/jkibele/OpticalRS)."
   ]
  },
  {
   "cell_type": "code",
   "execution_count": null,
   "metadata": {
    "colab": {
     "base_uri": "https://localhost:8080/",
     "height": 34
    },
    "colab_type": "code",
    "id": "rjTmVRzm1mMm",
    "outputId": "e7bc556c-d5a2-4d2d-91b4-5115d962ba67"
   },
   "outputs": [
    {
     "name": "stdout",
     "output_type": "stream",
     "text": [
      "Populating the interactive namespace from numpy and matplotlib\n"
     ]
    }
   ],
   "source": [
    "%pylab inline\n",
    "from OpticalRS import *"
   ]
  },
  {
   "cell_type": "markdown",
   "metadata": {
    "colab_type": "text",
    "id": "dlqhKmME1mMo"
   },
   "source": [
    "Our first step is to read our raster file into OpticalRS. The `RasterDS()` function reads in a file and converts it into a raster-specific object called a 'Raster Dataset'. The `band_array` attribute of the 'Raster Dataset' is a NumPy array of your data."
   ]
  },
  {
   "cell_type": "code",
   "execution_count": null,
   "metadata": {
    "colab": {
     "base_uri": "https://localhost:8080/",
     "height": 69,
     "resources": {
      "http://localhost:8080/nbextensions/google.colab/files.js": {
       "data": "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",
       "headers": [
        [
         "content-type",
         "application/javascript"
        ]
       ],
       "ok": true,
       "status": 200,
       "status_text": ""
      }
     }
    },
    "colab_type": "code",
    "collapsed": true,
    "id": "x_lVWDhT8dCl",
    "outputId": "5ab49c1e-4a4f-4b72-c937-fa63bb4a3751"
   },
   "outputs": [
    {
     "data": {
      "text/html": [
       "\n",
       "     <input type=\"file\" id=\"files-bb3d28aa-8b6c-4300-a027-1f9157544b0a\" name=\"files[]\" multiple disabled />\n",
       "     <output id=\"result-bb3d28aa-8b6c-4300-a027-1f9157544b0a\">\n",
       "      Upload widget is only available when the cell has been executed in the\n",
       "      current browser session. Please rerun this cell to enable.\n",
       "      </output>\n",
       "      <script src=\"/nbextensions/google.colab/files.js\"></script> "
      ],
      "text/plain": [
       "<IPython.core.display.HTML object>"
      ]
     },
     "metadata": {
      "tags": []
     },
     "output_type": "display_data"
    },
    {
     "name": "stdout",
     "output_type": "stream",
     "text": [
      "Saving bathy_caribb_4326.tif to bathy_caribb_4326.tif\n"
     ]
    }
   ],
   "source": [
    "#@title\n",
    "# Loading my local files into Colaboratory (for demo only!)\n",
    "from google.colab import files\n",
    "uploaded = files.upload()"
   ]
  },
  {
   "cell_type": "code",
   "execution_count": null,
   "metadata": {
    "colab": {},
    "colab_type": "code",
    "id": "vQ65aL9w1mMp"
   },
   "outputs": [],
   "source": [
    "# Define your GeoTiff filepath\n",
    "bathy_dr_fp = \"bathy_caribb_4326.tif\"\n",
    "        \n",
    "# Turn your GeoTiff into a \"Raster Dataset\" object.\n",
    "rds = RasterDS(bathy_dr_fp)\n",
    "\n",
    "# Convert the \"Raster Dataset\" object into a numpy array\n",
    "dominican_arr = rds.band_array"
   ]
  },
  {
   "cell_type": "code",
   "execution_count": null,
   "metadata": {
    "colab": {
     "base_uri": "https://localhost:8080/",
     "height": 232
    },
    "colab_type": "code",
    "collapsed": true,
    "id": "h8hW8QEr86nD",
    "outputId": "b2ca0f69-1945-4113-a652-ed83565b21a1"
   },
   "outputs": [
    {
     "ename": "OSError",
     "evalue": "ignored",
     "output_type": "error",
     "traceback": [
      "\u001b[0;31m\u001b[0m",
      "\u001b[0;31mOSError\u001b[0mTraceback (most recent call last)",
      "\u001b[0;32m<ipython-input-54-82b1b664cf83>\u001b[0m in \u001b[0;36m<module>\u001b[0;34m()\u001b[0m\n\u001b[1;32m      1\u001b[0m \u001b[0min_data_dir\u001b[0m \u001b[0;34m=\u001b[0m \u001b[0;34m\"/home/carlson/tutorial_files/\"\u001b[0m\u001b[0;34m\u001b[0m\u001b[0m\n\u001b[1;32m      2\u001b[0m \u001b[0mfilenames\u001b[0m \u001b[0;34m=\u001b[0m \u001b[0;34m[\u001b[0m\u001b[0;34m]\u001b[0m\u001b[0;34m\u001b[0m\u001b[0m\n\u001b[0;32m----> 3\u001b[0;31m \u001b[0;32mfor\u001b[0m \u001b[0mp\u001b[0m \u001b[0;32min\u001b[0m \u001b[0mos\u001b[0m\u001b[0;34m.\u001b[0m\u001b[0mlistdir\u001b[0m\u001b[0;34m(\u001b[0m\u001b[0min_data_dir\u001b[0m\u001b[0;34m)\u001b[0m\u001b[0;34m:\u001b[0m\u001b[0;34m\u001b[0m\u001b[0m\n\u001b[0m\u001b[1;32m      4\u001b[0m     \u001b[0;32mif\u001b[0m \u001b[0mp\u001b[0m\u001b[0;34m.\u001b[0m\u001b[0mendswith\u001b[0m\u001b[0;34m(\u001b[0m\u001b[0;34m'.tif'\u001b[0m\u001b[0;34m)\u001b[0m\u001b[0;34m:\u001b[0m\u001b[0;34m\u001b[0m\u001b[0m\n\u001b[1;32m      5\u001b[0m         \u001b[0mfp\u001b[0m \u001b[0;34m=\u001b[0m \u001b[0mos\u001b[0m\u001b[0;34m.\u001b[0m\u001b[0mpath\u001b[0m\u001b[0;34m.\u001b[0m\u001b[0mjoin\u001b[0m\u001b[0;34m(\u001b[0m\u001b[0min_data_dir\u001b[0m\u001b[0;34m,\u001b[0m \u001b[0mp\u001b[0m\u001b[0;34m)\u001b[0m\u001b[0;34m\u001b[0m\u001b[0m\n",
      "\u001b[0;31mOSError\u001b[0m: [Errno 2] No such file or directory: '/home/carlson/tutorial_files/'"
     ]
    }
   ],
   "source": [
    "#@title\n",
    "# If you have lots of rasters to read in at once, define your root directory and run a loop through it\n",
    "in_data_dir = \"/home/carlson/tutorial_files/\"\n",
    "filenames = []\n",
    "for p in os.listdir(in_data_dir):\n",
    "    if p.endswith('.tif'):\n",
    "        fp = os.path.join(in_data_dir, p)\n",
    "        filenames.append(fp)"
   ]
  },
  {
   "cell_type": "markdown",
   "metadata": {
    "colab_type": "text",
    "id": "xEWJnqQ01mMq"
   },
   "source": [
    "Let's check out the properties of our array and make sure the conversion worked"
   ]
  },
  {
   "cell_type": "code",
   "execution_count": null,
   "metadata": {
    "colab": {
     "base_uri": "https://localhost:8080/",
     "height": 34
    },
    "colab_type": "code",
    "id": "oCdZ-e3s1mMs",
    "outputId": "8305ce7d-f1f3-43c3-da9e-441bf9587030"
   },
   "outputs": [
    {
     "data": {
      "text/plain": [
       "(638, 961, 1)"
      ]
     },
     "execution_count": 55,
     "metadata": {
      "tags": []
     },
     "output_type": "execute_result"
    }
   ],
   "source": [
    "# Check array shape\n",
    "dominican_arr.shape"
   ]
  },
  {
   "cell_type": "code",
   "execution_count": null,
   "metadata": {
    "colab": {
     "base_uri": "https://localhost:8080/",
     "height": 34
    },
    "colab_type": "code",
    "id": "Q7qjBg3J1mMw",
    "outputId": "2ec95060-4965-4ca5-ecf3-f86ca580a349"
   },
   "outputs": [
    {
     "data": {
      "text/plain": [
       "-2622.8348180937437"
      ]
     },
     "execution_count": 56,
     "metadata": {
      "tags": []
     },
     "output_type": "execute_result"
    }
   ],
   "source": [
    "# Find mean depth (pixel value) in your raster\n",
    "dominican_arr.mean()"
   ]
  },
  {
   "cell_type": "code",
   "execution_count": null,
   "metadata": {
    "colab": {
     "base_uri": "https://localhost:8080/",
     "height": 34
    },
    "colab_type": "code",
    "id": "PwPeoMPd1mMy",
    "outputId": "d73adfae-5f29-4788-e9dd-1d75f8aa7d80"
   },
   "outputs": [
    {
     "data": {
      "text/plain": [
       "1226236"
      ]
     },
     "execution_count": 57,
     "metadata": {
      "tags": []
     },
     "output_type": "execute_result"
    }
   ],
   "source": [
    "# Check size of array\n",
    "dominican_arr.nbytes"
   ]
  },
  {
   "cell_type": "code",
   "execution_count": null,
   "metadata": {
    "colab": {
     "base_uri": "https://localhost:8080/",
     "height": 286
    },
    "colab_type": "code",
    "id": "pxNxhMMk1mM0",
    "outputId": "7a381340-6e45-4eb2-988b-d93bb993f881"
   },
   "outputs": [
    {
     "data": {
      "text/plain": [
       "<matplotlib.image.AxesImage at 0x7fe9eec192d0>"
      ]
     },
     "execution_count": 70,
     "metadata": {
      "tags": []
     },
     "output_type": "execute_result"
    },
    {
     "data": {
      "image/png": "[encoded data removed]",
      "text/plain": [
       "<matplotlib.figure.Figure at 0x7fe9eecbe190>"
      ]
     },
     "metadata": {
      "tags": []
     },
     "output_type": "display_data"
    }
   ],
   "source": [
    "# Create a quick plot\n",
    "imshow(dominican_arr.squeeze(), cmap ='viridis')"
   ]
  },
  {
   "cell_type": "markdown",
   "metadata": {
    "colab_type": "text",
    "id": "bf8ph22Q1mM6"
   },
   "source": [
    "Looks good!"
   ]
  },
  {
   "cell_type": "markdown",
   "metadata": {
    "colab_type": "text",
    "id": "sASK8U2F1mM6"
   },
   "source": [
    "### Exercise 3.1"
   ]
  },
  {
   "cell_type": "code",
   "execution_count": null,
   "metadata": {
    "colab": {},
    "colab_type": "code",
    "id": "8YDqXNVC1mM7"
   },
   "outputs": [],
   "source": [
    "# Follow the steps to load in your raster data as a NumPy array."
   ]
  },
  {
   "cell_type": "code",
   "execution_count": null,
   "metadata": {
    "colab": {},
    "colab_type": "code",
    "id": "F5crs_mS1mM8"
   },
   "outputs": [],
   "source": [
    "# Find the max bathymetry value in your array (use NumPy documentation: https://docs.scipy.org/doc/numpy-1.13.0/reference/routines.statistics.html)"
   ]
  },
  {
   "cell_type": "markdown",
   "metadata": {
    "colab_type": "text",
    "id": "jz6X2zRk1mM9"
   },
   "source": [
    "# Step 4: Analyze bathymetry by MPA (\"Zonal Statistics\")"
   ]
  },
  {
   "cell_type": "markdown",
   "metadata": {
    "colab_type": "text",
    "id": "ZNBgWire1mM9"
   },
   "source": [
    "## Step 4.1 Apply bathymetry to one \"zone\""
   ]
  },
  {
   "cell_type": "markdown",
   "metadata": {
    "colab_type": "text",
    "id": "O46Q6P901mM-"
   },
   "source": [
    "Running statistics on our array/raster is easy, but not terribly meaningful because my bounding box is pretty arbitrary. We need to clip our raster to MPAs in order to assess the bathymetry values within our \"zones\" of interest.  This is called \"zonal statistics\" (aka \"cookie cutter statistics\")."
   ]
  },
  {
   "cell_type": "markdown",
   "metadata": {
    "colab_type": "text",
    "id": "KcEsFu561mM-"
   },
   "source": [
    "![Dwayne the rock image](https://github.com/rrcarlson/Intro_python_geo/blob/master/images/the_rock.png?raw=1)\n",
    "\n",
    "Let's start by clipping our \"Raster Dataset\" object to MPA geometries. This is easy in OpticalRS using the `geometry_subset()` function. `geometry_subset` takes a geometry object (like the 'geometry' attribute of a GeoDataFrame row) and uses it as a bounding box (box-ish) for our \"Raster Dataset\", returning a NumPy array.\n",
    "\n",
    "Since `geometry_subset` takes just one geometry, we'll\n",
    "1. Dissolve all parks designated as \"Marine\" into one geometry.\n",
    "2. Use this geometry as the \"cookie cutter\" for our raster."
   ]
  },
  {
   "cell_type": "code",
   "execution_count": null,
   "metadata": {
    "colab": {
     "base_uri": "https://localhost:8080/",
     "height": 286
    },
    "colab_type": "code",
    "id": "lUviGUg71mM_",
    "outputId": "2a7ee2ee-23a0-42e6-e8d8-993c575445a9"
   },
   "outputs": [
    {
     "data": {
      "text/plain": [
       "<matplotlib.image.AxesImage at 0x7fe9eebb6110>"
      ]
     },
     "execution_count": 71,
     "metadata": {
      "tags": []
     },
     "output_type": "execute_result"
    },
    {
     "data": {
      "image/png": "[encoded data removed]",
      "text/plain": [
       "<matplotlib.figure.Figure at 0x7fe9eec35b50>"
      ]
     },
     "metadata": {
      "tags": []
     },
     "output_type": "display_data"
    }
   ],
   "source": [
    "# Create one geometry for ALL marine protected areas (Remember: MPAs are coded as '1')\n",
    "mpas_dissolved = conserve.dissolve(by='MARINE').loc['2']\n",
    "\n",
    "# Clip your array to the shape of MPAs (dissolved)\n",
    "mpa_array = rds.geometry_subset(mpas_dissolved.geometry)\n",
    "\n",
    "# Plot the clipped array\n",
    "imshow(mpa_array.squeeze())"
   ]
  },
  {
   "cell_type": "markdown",
   "metadata": {
    "colab_type": "text",
    "id": "h12Zw8bo1mNB"
   },
   "source": [
    "Great! Now we have an array of bathymetry values clipped to MPA boundaries. We can use [any statistical methods](https://docs.scipy.org/doc/numpy-1.14.0/reference/index.html) available within NumPy on this array."
   ]
  },
  {
   "cell_type": "code",
   "execution_count": null,
   "metadata": {
    "colab": {
     "base_uri": "https://localhost:8080/",
     "height": 34
    },
    "colab_type": "code",
    "id": "ReS6UPC31mNB",
    "outputId": "71f87852-6923-4def-c016-cfe10e2574aa"
   },
   "outputs": [
    {
     "data": {
      "text/plain": [
       "[-1971.740549741308, -6797, 406, 7203]"
      ]
     },
     "execution_count": 72,
     "metadata": {
      "tags": []
     },
     "output_type": "execute_result"
    }
   ],
   "source": [
    "# Find the mean, min, max, and range of bathymetry values for MPAs.\n",
    "[mpa_array.mean(), mpa_array.min(), mpa_array.max(), mpa_array.ptp()]"
   ]
  },
  {
   "cell_type": "markdown",
   "metadata": {
    "colab_type": "text",
    "id": "whvlEFrB1mND"
   },
   "source": [
    "Let's tighten this up by placing these commands in this same function. **Note:** There are lots of preexisting functions for doing \"Raster Stats\" in Python and R, but they're prescriptive in the types of statistics they return. By converting your raster into an array, you can apply anything in the **NumPy** universe to your data!"
   ]
  },
  {
   "cell_type": "code",
   "execution_count": null,
   "metadata": {
    "colab": {},
    "colab_type": "code",
    "id": "q9kdCevE1mNE"
   },
   "outputs": [],
   "source": [
    "# Define a function encompassing all of the commands above.\n",
    "# Clip Raster Dataset to vector object g.\n",
    "# Find mean, min, max, and range values of clipped numpy array.\n",
    "# Fetch the MPA ID from \"g\" and place alongside summary statistics.\n",
    "def stats_bathy(g, rds):\n",
    "    mpa_arr = rds.geometry_subset(g.geometry)\n",
    "    mean_bathy = mpa_arr.mean()\n",
    "    min_bathy = mpa_arr.min()\n",
    "    max_bathy = mpa_arr.max()\n",
    "    range_bathy = mpa_arr.ptp()\n",
    "    mpa_id = g['WDPA_PID']\n",
    "    return mpa_id, mean_bathy, min_bathy, max_bathy, range_bathy"
   ]
  },
  {
   "cell_type": "code",
   "execution_count": null,
   "metadata": {
    "colab": {
     "base_uri": "https://localhost:8080/",
     "height": 34
    },
    "colab_type": "code",
    "id": "jlfa_gQ81mNG",
    "outputId": "6387512e-b424-4e05-8662-414ae3b470ad"
   },
   "outputs": [
    {
     "data": {
      "text/plain": [
       "(u'555624222', -1971.740549741308, -6797, 406, 7203)"
      ]
     },
     "execution_count": 74,
     "metadata": {
      "tags": []
     },
     "output_type": "execute_result"
    }
   ],
   "source": [
    "# Try the function on g = mpas_dissolved\n",
    "stats_bathy(mpas_dissolved, rds)"
   ]
  },
  {
   "cell_type": "markdown",
   "metadata": {
    "colab_type": "text",
    "id": "FJJ5bLgB1mNI"
   },
   "source": [
    "### Exercise 4.1"
   ]
  },
  {
   "cell_type": "code",
   "execution_count": null,
   "metadata": {
    "colab": {},
    "colab_type": "code",
    "id": "lZ9QyjD31mNI"
   },
   "outputs": [],
   "source": [
    "# Follow the steps above to clip your raster data to MPA boundaries."
   ]
  },
  {
   "cell_type": "code",
   "execution_count": null,
   "metadata": {
    "colab": {},
    "colab_type": "code",
    "id": "Te55IqNS1mNL"
   },
   "outputs": [],
   "source": [
    "# Define a new function calculating the standard deviation and coefficient of variation of MPA geometries"
   ]
  },
  {
   "cell_type": "markdown",
   "metadata": {
    "colab_type": "text",
    "id": "G48ciIuA1mNM"
   },
   "source": [
    "## Step 4.2: Apply bathymetry to many \"zones\""
   ]
  },
  {
   "cell_type": "markdown",
   "metadata": {
    "colab_type": "text",
    "id": "yVfFHRpz1mNM"
   },
   "source": [
    "Now that our personal \"Raster Stats\" are bundled neatly in one function, we can iterate through multiple geometries, for example, each individual MPA (undissolved). The easiest way to do this is to use `lambda`, an anonymous function (kind of like `apply` in R).\n",
    "\n",
    "* `lambda` basically **points to a variable that will change value** with each iteration of our function. In our case, we want `r` in `stats_bathy(r, rds)` to change: it will become a new MPA geometry with each iteration.\n",
    "* **Where do we find each new MPA geometry?** The 'geometry' attribute of each row in our original GeoDataFrame (`conserve` filtered down to `mpa`)!\n",
    "* We'll define a new function that tells the computer to look inside `mpa` for MPA rows, then apply the 'geometry' attribute of each row (using `lambda`) to `stats_bathy`."
   ]
  },
  {
   "cell_type": "code",
   "execution_count": null,
   "metadata": {
    "colab": {},
    "colab_type": "code",
    "id": "qhATIhvN1mNN"
   },
   "outputs": [],
   "source": [
    "# Define a new function that uses 'lambda' to iterate stats_bathy through multiple DataFrame rows (MPA geometries).\n",
    "def stats_bathy_multiple(dataframe, rds):\n",
    "    series_mpas = dataframe.apply(lambda r: stats_bathy(r, rds), axis=1)\n",
    "    return series_mpas"
   ]
  },
  {
   "cell_type": "code",
   "execution_count": null,
   "metadata": {
    "colab": {
     "base_uri": "https://localhost:8080/",
     "height": 153
    },
    "colab_type": "code",
    "id": "Pg1TH5JQ1mNP",
    "outputId": "fb3d8b3e-534c-4f94-906a-fedce0eb3bd6"
   },
   "outputs": [
    {
     "data": {
      "text/plain": [
       "0          (555624222, -45.46666666666667, -145, 9, 154)\n",
       "3       (555624220, -18.33161423414131, -849, 406, 1255)\n",
       "80               (6674, -12.039473684210526, -60, 4, 64)\n",
       "113         (478082, -27.697183098591548, -247, -2, 245)\n",
       "116    (555629451, -1143.9358547655067, -2744, 184, 2...\n",
       "117     (555629450, -843.2890858497371, -2318, 76, 2394)\n",
       "139       (478071, -2389.510002503471, -6797, 113, 6910)\n",
       "dtype: object"
      ]
     },
     "execution_count": 76,
     "metadata": {
      "tags": []
     },
     "output_type": "execute_result"
    }
   ],
   "source": [
    "# Try out the function on our original 'mpa' GeoDataFrame\n",
    "series_mpas = stats_bathy_multiple(mpa, rds)\n",
    "series_mpas"
   ]
  },
  {
   "cell_type": "markdown",
   "metadata": {
    "colab_type": "text",
    "id": "X-Eewgcc1mNQ"
   },
   "source": [
    "We now have summary statistics for all MPAs in our `conserve` dataset!"
   ]
  },
  {
   "cell_type": "markdown",
   "metadata": {
    "colab_type": "text",
    "id": "hftFLbOL1mNQ"
   },
   "source": [
    "## Extra steps"
   ]
  },
  {
   "cell_type": "markdown",
   "metadata": {
    "colab_type": "text",
    "id": "7vPPh_GD1mNQ"
   },
   "source": [
    "The data above isn't in the most usable format. Our function returns a series of tuples, with each tuple representing a different MPA geometry. \n",
    "\n",
    "If I want to get all of this back into a DataFrame, I can split each tuple into separate values (attributes). There are several ways to do this, but one easy method is `vstack()`, which splits *thing* into multiple *sub-things* and stacks them vertically to make an array. I can then insert this data into a DataFrame."
   ]
  },
  {
   "cell_type": "code",
   "execution_count": null,
   "metadata": {
    "colab": {
     "base_uri": "https://localhost:8080/",
     "height": 266
    },
    "colab_type": "code",
    "id": "Cdy1gDr01mNR",
    "outputId": "c52c2119-b914-4990-d37e-ac864604bc10"
   },
   "outputs": [
    {
     "data": {
      "text/html": [
       "<div>\n",
       "<style scoped>\n",
       "    .dataframe tbody tr th:only-of-type {\n",
       "        vertical-align: middle;\n",
       "    }\n",
       "\n",
       "    .dataframe tbody tr th {\n",
       "        vertical-align: top;\n",
       "    }\n",
       "\n",
       "    .dataframe thead th {\n",
       "        text-align: right;\n",
       "    }\n",
       "</style>\n",
       "<table border=\"1\" class=\"dataframe\">\n",
       "  <thead>\n",
       "    <tr style=\"text-align: right;\">\n",
       "      <th></th>\n",
       "      <th>0</th>\n",
       "      <th>1</th>\n",
       "      <th>2</th>\n",
       "      <th>3</th>\n",
       "      <th>4</th>\n",
       "    </tr>\n",
       "  </thead>\n",
       "  <tbody>\n",
       "    <tr>\n",
       "      <th>0</th>\n",
       "      <td>555624222</td>\n",
       "      <td>-45.46666666666667</td>\n",
       "      <td>-145</td>\n",
       "      <td>9</td>\n",
       "      <td>154</td>\n",
       "    </tr>\n",
       "    <tr>\n",
       "      <th>1</th>\n",
       "      <td>555624220</td>\n",
       "      <td>-18.33161423414131</td>\n",
       "      <td>-849</td>\n",
       "      <td>406</td>\n",
       "      <td>1255</td>\n",
       "    </tr>\n",
       "    <tr>\n",
       "      <th>2</th>\n",
       "      <td>6674</td>\n",
       "      <td>-12.039473684210526</td>\n",
       "      <td>-60</td>\n",
       "      <td>4</td>\n",
       "      <td>64</td>\n",
       "    </tr>\n",
       "    <tr>\n",
       "      <th>3</th>\n",
       "      <td>478082</td>\n",
       "      <td>-27.697183098591548</td>\n",
       "      <td>-247</td>\n",
       "      <td>-2</td>\n",
       "      <td>245</td>\n",
       "    </tr>\n",
       "    <tr>\n",
       "      <th>4</th>\n",
       "      <td>555629451</td>\n",
       "      <td>-1143.9358547655067</td>\n",
       "      <td>-2744</td>\n",
       "      <td>184</td>\n",
       "      <td>2928</td>\n",
       "    </tr>\n",
       "    <tr>\n",
       "      <th>5</th>\n",
       "      <td>555629450</td>\n",
       "      <td>-843.2890858497371</td>\n",
       "      <td>-2318</td>\n",
       "      <td>76</td>\n",
       "      <td>2394</td>\n",
       "    </tr>\n",
       "    <tr>\n",
       "      <th>6</th>\n",
       "      <td>478071</td>\n",
       "      <td>-2389.510002503471</td>\n",
       "      <td>-6797</td>\n",
       "      <td>113</td>\n",
       "      <td>6910</td>\n",
       "    </tr>\n",
       "  </tbody>\n",
       "</table>\n",
       "</div>"
      ],
      "text/plain": [
       "           0                    1      2    3     4\n",
       "0  555624222   -45.46666666666667   -145    9   154\n",
       "1  555624220   -18.33161423414131   -849  406  1255\n",
       "2       6674  -12.039473684210526    -60    4    64\n",
       "3     478082  -27.697183098591548   -247   -2   245\n",
       "4  555629451  -1143.9358547655067  -2744  184  2928\n",
       "5  555629450   -843.2890858497371  -2318   76  2394\n",
       "6     478071   -2389.510002503471  -6797  113  6910"
      ]
     },
     "execution_count": 77,
     "metadata": {
      "tags": []
     },
     "output_type": "execute_result"
    }
   ],
   "source": [
    "# Convert your series of tuples into a DataFrame using 'vstack'\n",
    "dataframe_mpas = pd.DataFrame(np.vstack(series_mpas))\n",
    "dataframe_mpas"
   ]
  },
  {
   "cell_type": "code",
   "execution_count": null,
   "metadata": {
    "colab": {
     "base_uri": "https://localhost:8080/",
     "height": 266
    },
    "colab_type": "code",
    "id": "Ckax55Fx1mNS",
    "outputId": "b0abfb23-d37b-4d58-e7fb-2ee1d60af86b"
   },
   "outputs": [
    {
     "data": {
      "text/html": [
       "<div>\n",
       "<style scoped>\n",
       "    .dataframe tbody tr th:only-of-type {\n",
       "        vertical-align: middle;\n",
       "    }\n",
       "\n",
       "    .dataframe tbody tr th {\n",
       "        vertical-align: top;\n",
       "    }\n",
       "\n",
       "    .dataframe thead th {\n",
       "        text-align: right;\n",
       "    }\n",
       "</style>\n",
       "<table border=\"1\" class=\"dataframe\">\n",
       "  <thead>\n",
       "    <tr style=\"text-align: right;\">\n",
       "      <th></th>\n",
       "      <th>WDPA_PID</th>\n",
       "      <th>mean_bathy</th>\n",
       "      <th>min_bathy</th>\n",
       "      <th>max_bathy</th>\n",
       "      <th>range_bathy</th>\n",
       "    </tr>\n",
       "  </thead>\n",
       "  <tbody>\n",
       "    <tr>\n",
       "      <th>0</th>\n",
       "      <td>555624222</td>\n",
       "      <td>-45.46666666666667</td>\n",
       "      <td>-145</td>\n",
       "      <td>9</td>\n",
       "      <td>154</td>\n",
       "    </tr>\n",
       "    <tr>\n",
       "      <th>1</th>\n",
       "      <td>555624220</td>\n",
       "      <td>-18.33161423414131</td>\n",
       "      <td>-849</td>\n",
       "      <td>406</td>\n",
       "      <td>1255</td>\n",
       "    </tr>\n",
       "    <tr>\n",
       "      <th>2</th>\n",
       "      <td>6674</td>\n",
       "      <td>-12.039473684210526</td>\n",
       "      <td>-60</td>\n",
       "      <td>4</td>\n",
       "      <td>64</td>\n",
       "    </tr>\n",
       "    <tr>\n",
       "      <th>3</th>\n",
       "      <td>478082</td>\n",
       "      <td>-27.697183098591548</td>\n",
       "      <td>-247</td>\n",
       "      <td>-2</td>\n",
       "      <td>245</td>\n",
       "    </tr>\n",
       "    <tr>\n",
       "      <th>4</th>\n",
       "      <td>555629451</td>\n",
       "      <td>-1143.9358547655067</td>\n",
       "      <td>-2744</td>\n",
       "      <td>184</td>\n",
       "      <td>2928</td>\n",
       "    </tr>\n",
       "    <tr>\n",
       "      <th>5</th>\n",
       "      <td>555629450</td>\n",
       "      <td>-843.2890858497371</td>\n",
       "      <td>-2318</td>\n",
       "      <td>76</td>\n",
       "      <td>2394</td>\n",
       "    </tr>\n",
       "    <tr>\n",
       "      <th>6</th>\n",
       "      <td>478071</td>\n",
       "      <td>-2389.510002503471</td>\n",
       "      <td>-6797</td>\n",
       "      <td>113</td>\n",
       "      <td>6910</td>\n",
       "    </tr>\n",
       "  </tbody>\n",
       "</table>\n",
       "</div>"
      ],
      "text/plain": [
       "    WDPA_PID           mean_bathy min_bathy max_bathy range_bathy\n",
       "0  555624222   -45.46666666666667      -145         9         154\n",
       "1  555624220   -18.33161423414131      -849       406        1255\n",
       "2       6674  -12.039473684210526       -60         4          64\n",
       "3     478082  -27.697183098591548      -247        -2         245\n",
       "4  555629451  -1143.9358547655067     -2744       184        2928\n",
       "5  555629450   -843.2890858497371     -2318        76        2394\n",
       "6     478071   -2389.510002503471     -6797       113        6910"
      ]
     },
     "execution_count": 78,
     "metadata": {
      "tags": []
     },
     "output_type": "execute_result"
    }
   ],
   "source": [
    "# Rename the columns of your DataFrame\n",
    "dataframe_mpas = dataframe_mpas.rename(columns = {0:'WDPA_PID', 1:'mean_bathy', 2: 'min_bathy', 3: 'max_bathy', 4: 'range_bathy'})\n",
    "dataframe_mpas"
   ]
  },
  {
   "cell_type": "markdown",
   "metadata": {
    "colab_type": "text",
    "id": "Snkb6CRB1mNU"
   },
   "source": [
    "I can then save this data back out to a CSV. Saving tabular data is as simple as:\n",
    "* DataFrame = Pandas = `pd.read_csv()` = `pd.to_csv()`\n",
    "* GeoDataFrame = DataFrame with geometry attribute = GeoPandas = `gpd.read_file()` = `gpd.to_file()`"
   ]
  },
  {
   "cell_type": "code",
   "execution_count": null,
   "metadata": {
    "colab": {},
    "colab_type": "code",
    "id": "dThxTHuQ1mNV"
   },
   "outputs": [],
   "source": [
    "# Save DataFrame to CSV\n",
    "dataframe_mpas.to_csv(\"python_ecodatascience.csv\")"
   ]
  },
  {
   "cell_type": "markdown",
   "metadata": {
    "colab_type": "text",
    "id": "Y5XjVgVU1mNV"
   },
   "source": [
    "# Step 5: Review"
   ]
  },
  {
   "cell_type": "markdown",
   "metadata": {
    "colab_type": "text",
    "id": "kj6lJJUC1mNW"
   },
   "source": [
    "This part isn't finished yet."
   ]
  },
  {
   "cell_type": "markdown",
   "metadata": {
    "colab_type": "text",
    "id": "U9jteQ171mNX"
   },
   "source": [
    "* **Use Pandas to manage and clean tabular data in a DataFrame**\n",
    "    * Use `loc` and `iloc` to index/subset data in a DataFrame.\n",
    "    * Remember to check `dtype` \n",
    "* **NumPy is useful for managing data in arrays**, particularly if your data has over 2 dimensions.\n",
    "* A few tips for **iterating through DataFrames**:\n",
    "    * Use `def` to define a new function.\n",
    "    * Use `lambda: r` to name a variable `r` as an iterator in a function. If `r` is a DataFrame, iterate through rows using axis=1, or through columns using axis=0 (other important iterative tools not discussed: [loops](https://www.digitalocean.com/community/tutorials/how-to-construct-for-loops-in-python-3) and [list comprehensions)](https://www.datacamp.com/community/tutorials/python-list-comprehension).\n",
    "* Data Structures in Python come in [many shapes and sizes](https://pandas.pydata.org/pandas-docs/stable/dsintro.html). Arrange your data (whatever it may be) in the structure of your choosing by 1) reading the filepath into the desired library like GeoPandas or, 2) **using your data as an argument in a Data Constructor**."
   ]
  },
  {
   "cell_type": "markdown",
   "metadata": {
    "colab_type": "text",
    "id": "OwOqh4g71mNX"
   },
   "source": [
    "## Other cool stuff Python can do"
   ]
  },
  {
   "cell_type": "markdown",
   "metadata": {
    "colab_type": "text",
    "id": "ltn6UYGV1mNX"
   },
   "source": [
    "A bunch of random notes here so far. I'll write a few bullets on spatial joins/intersections(http://nbviewer.jupyter.org/github/geopandas/geopandas/blob/master/examples/overlays.ipynb), gdal, network analysis, spatial stats, interactive maps via leaflet and bokeh"
   ]
  },
  {
   "cell_type": "code",
   "execution_count": null,
   "metadata": {
    "colab": {},
    "colab_type": "code",
    "id": "WRKuSCPt1mNY",
    "outputId": "5465e37b-77ec-446d-8444-1b801a5807e9"
   },
   "outputs": [
    {
     "name": "stdout",
     "output_type": "stream",
     "text": [
      "Pixel Size = (0.008334859521332,-0.008331661442006)\n"
     ]
    }
   ],
   "source": [
    "!gdalinfo $bathy_dr_fp | grep Pixel"
   ]
  },
  {
   "cell_type": "code",
   "execution_count": null,
   "metadata": {
    "colab": {},
    "colab_type": "code",
    "id": "rO9LJb5d1mNZ"
   },
   "outputs": [],
   "source": [
    "bathy_dr_4326 = \"/home/carlson/tutorial_files/bathy_caribb_4326.tif\""
   ]
  },
  {
   "cell_type": "code",
   "execution_count": null,
   "metadata": {
    "colab": {},
    "colab_type": "code",
    "id": "3yc6GEnY1mNa",
    "outputId": "11ae5516-7142-4828-afbb-8d9e7daa7066"
   },
   "outputs": [
    {
     "name": "stdout",
     "output_type": "stream",
     "text": [
      "Processing input file /home/carlson/tutorial_files/bathy_caribb.tif.\n",
      "0...10...20...30...40...50...60...70...80...90...100 - done.\n"
     ]
    }
   ],
   "source": [
    "!gdalwarp -t_srs EPSG:4326 $bathy_dr_fp $bathy_dr_4326"
   ]
  },
  {
   "cell_type": "code",
   "execution_count": null,
   "metadata": {
    "colab": {},
    "colab_type": "code",
    "id": "wxfnOiAt1mNe"
   },
   "outputs": [],
   "source": []
  }
 ],
 "metadata": {
  "colab": {
   "name": "Intro_Python_geospatial.ipynb",
   "provenance": [],
   "version": "0.3.2"
  },
  "kernelspec": {
   "display_name": "Python 2",
   "language": "python",
   "name": "python2"
  },
  "language_info": {
   "codemirror_mode": {
    "name": "ipython",
    "version": 2
   },
   "file_extension": ".py",
   "mimetype": "text/x-python",
   "name": "python",
   "nbconvert_exporter": "python",
   "pygments_lexer": "ipython2",
   "version": "2.7.14"
  }
 },
 "nbformat": 4,
 "nbformat_minor": 2
}
