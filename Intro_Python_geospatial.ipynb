{
  "nbformat": 4,
  "nbformat_minor": 0,
  "metadata": {
    "colab": {
      "name": "Intro_Python_geospatial.ipynb",
      "version": "0.3.2",
      "provenance": []
    },
    "kernelspec": {
      "display_name": "Python 2",
      "language": "python",
      "name": "python2"
    }
  },
  "cells": [
    {
      "cell_type": "markdown",
      "metadata": {
        "id": "view-in-github",
        "colab_type": "text"
      },
      "source": [
        "[View in Colaboratory](https://colab.research.google.com/github/rrcarlson/Intro_python_geo/blob/master/Intro_Python_geospatial.ipynb)"
      ]
    },
    {
      "metadata": {
        "id": "S6xi1qinKvA_",
        "colab_type": "text"
      },
      "cell_type": "markdown",
      "source": [
        "## Session Prep"
      ]
    },
    {
      "metadata": {
        "id": "zP7vdH0AK0W3",
        "colab_type": "code",
        "colab": {
          "base_uri": "https://localhost:8080/",
          "height": 136
        },
        "outputId": "f153bb81-d395-49f0-9878-668accd8d1eb"
      },
      "cell_type": "code",
      "source": [
        "#@title\n",
        "# Install OpticalRS. This also installs GeoPandas because GeoPandas is a dependency of OpticalRS\n",
        "!apt-get install software-properties-common python-software-properties > /dev/null\n",
        "!add-apt-repository ppa:ubuntugis/ppa -y > /dev/null\n",
        "!apt-get update > /dev/null\n",
        "!apt-get install -y --fix-missing python-gdal gdal-bin libgdal-dev > /dev/null\n",
        "!pip2 install OpticalRS > /dev/null"
      ],
      "execution_count": 0,
      "outputs": [
        {
          "output_type": "stream",
          "text": [
            "gpg: keybox '/tmp/tmpwhaygiog/pubring.gpg' created\n",
            "gpg: /tmp/tmpwhaygiog/trustdb.gpg: trustdb created\n",
            "gpg: key 089EBE08314DF160: public key \"Launchpad ubuntugis-stable\" imported\n",
            "gpg: Total number processed: 1\n",
            "gpg:               imported: 1\n",
            "Warning: apt-key output should not be parsed (stdout is not a terminal)\n",
            "E: The repository 'http://ppa.launchpad.net/ubuntugis/ppa/ubuntu artful Release' does not have a Release file.\n"
          ],
          "name": "stdout"
        }
      ]
    },
    {
      "metadata": {
        "id": "Fl40H7od1mK4",
        "colab_type": "text"
      },
      "cell_type": "markdown",
      "source": [
        "# Intro to Python"
      ]
    },
    {
      "metadata": {
        "id": "cGa0avMm1mK5",
        "colab_type": "text"
      },
      "cell_type": "markdown",
      "source": [
        "![Python image](https://github.com/rrcarlson/Intro_python_geo/blob/master/images/python.jpg?raw=1)\n",
        "\n",
        "Python is a rich, versatile language with lots of prolific contributors. So where to start? \n",
        "\n",
        "For reference, below are some Python tutorials that cover a range of Python libraries. We won't spend too much time today on basic syntax, etc., since that's well covered elsewhere and kinda boring. As a Python newbie, I've found that using Pandas/GeoPandas and NumPy have introduced me organically to other libraries, and have allowed me to see results quickly for basic geospatial tasks--so we'll start there!\n",
        "* [Python basics](https://github.com/sinkovit/PythonSeries/blob/master/Python%20basics.ipynb): How to create lists, dictionaries, iterators, etc.\n",
        "* [Python Markdown and LaTex](https://github.com/adam-p/markdown-here/wiki/Markdown-Cheatsheet): Documentation and formatting\n",
        "* Matplotlib: Data visualization\n",
        "* [Pandas](https://pandas.pydata.org/pandas-docs/stable/10min.html): Data wrangling and preparation using two types of data objects: 1) DataFrames, 2) Series.\n",
        "* [GeoPandas](https://automating-gis-processes.github.io/2016/Lesson2-overview-pandas-geopandas.html): Basically the geospatial version of Pandas. Adds geospatial functionality to the DataFrame (Geo + DataFrame = GeoDataFrame).\n",
        "* [NumPy](https://www.datacamp.com/community/tutorials/python-numpy-tutorial): Multi-dimensional data arrays for manipulating large datasets. There are some functions for linear algebra and statistics within NumPy but it's also used by SciPy, matplotlib, and pandas for scientific computing.\n",
        "* [SciPy](http://www.randalolson.com/2012/08/06/statistical-analysis-made-easy-in-python/): Scientific computing and statistical analysis. Uses NumPy, Matplotlib, and Pandas, and is common in earth sciences, astronomy, and oceanography.\n",
        "* [Shapely](http://toblerity.org/shapely/manual.html): Spatial data model for planar features (points, curves, and surfaces).\n",
        "* Skikit-learn: regression, clustering, and classification algorithms\n",
        "* Various [cool tricks](https://community.modeanalytics.com/python/)"
      ]
    },
    {
      "metadata": {
        "id": "kH0cCmSd1mK5",
        "colab_type": "text"
      },
      "cell_type": "markdown",
      "source": [
        "# Conservation in the Dominican Republic"
      ]
    },
    {
      "metadata": {
        "id": "vTbdGoGL1mK6",
        "colab_type": "text"
      },
      "cell_type": "markdown",
      "source": [
        "![Reef image](https://github.com/rrcarlson/Intro_python_geo/blob/master/images/01_coral_reef_bright_spot.jpg?raw=1)\n",
        "\n",
        "In this tutorial, we'll be testing out two Python libraries, **GeoPandas** and **NumPy**, that are useful in GIS. Our objectives: to filter and analyze vector and raster data for conservation areas in the Dominican Republic.\n",
        "\n",
        "We'll use two datasets:\n",
        "* **Conservation Areas of the Dominican Republic**: Vector data delineating conservation area boundaries, from the [World Database of Protected Areas (WDPA)](https://www.iucn.org/theme/protected-areas/our-work/world-database-protected-areas).\n",
        "* **Gridded Bathymetric Data**: Raster data (30 arc-second resolution) on bathymetry from the [British Oceanographic Data Center](https://www.bodc.ac.uk/data/hosted_data_systems/gebco_gridded_bathymetry_data/).\n",
        "\n",
        "Our goals are:\n",
        "* **Filter the WDPA database** to find only conservation areas for the marine environment (Marine Protected Areas)\n",
        "* **Clip rasters** to MPA boundaries\n",
        "* **Analyze raster data** (bathymetry) within Marine Protected Area boundaries to find\n",
        "    * Mean depth per MPA\n",
        "    * Standard deviation of depth per MPA\n",
        "    * Range of depth per MPA"
      ]
    },
    {
      "metadata": {
        "id": "OG90pHk51mK6",
        "colab_type": "text"
      },
      "cell_type": "markdown",
      "source": [
        "# Step 1: Load your libraries"
      ]
    },
    {
      "metadata": {
        "id": "uU77Mqop1mK7",
        "colab_type": "text"
      },
      "cell_type": "markdown",
      "source": [
        "What modules do we need?\n",
        "* Vector data comes in a tabular format, with one geometric feature per row. So we need a library to organize geographic data in a DataFrame.\n",
        "**That's Pandas** (more specifically, **GeoPandas**).\n",
        "* Raster data is a little trickier. It comes to us in a grid of pixel values, sometimes in multiple bands (3+ dimensions). We need a library to organize arrays/matrices of values in *n* dimensions. **That's NumPy**.\n",
        "* Numpy isn't explicitly designed to handle raster data. We need the help of another library to convert our raster files into array format. **That's [OpticalRS](https://github.com/jkibele/OpticalRS)**, created by NCEAS' very own Jared Kibele! OpticalRS borrows a bit of code from [an old version of rasterstats](https://github.com/perrygeo/python-rasterstats/releases/tag/0.5) to do the actual raster subsetting.\n",
        "* We'll want to plot stuff, so we need a library for data visualization. That's **matplotlib**.\n",
        "\n",
        "![arrays image](https://github.com/rrcarlson/Intro_python_geo/blob/master/images/arrays.png?raw=1)"
      ]
    },
    {
      "metadata": {
        "id": "20rpNBAb1mK8",
        "colab_type": "code",
        "colab": {
          "base_uri": "https://localhost:8080/",
          "height": 71
        },
        "outputId": "f06b6838-a9a7-463a-f936-6bb6d5b6b164"
      },
      "cell_type": "code",
      "source": [
        "import geopandas as gpd\n",
        "import pandas as pd\n",
        "import numpy as np\n",
        "import matplotlib\n",
        "from OpticalRS import *"
      ],
      "execution_count": 0,
      "outputs": [
        {
          "output_type": "stream",
          "text": [
            "/usr/local/lib/python2.7/dist-packages/sklearn/cross_validation.py:41: DeprecationWarning: This module was deprecated in version 0.18 in favor of the model_selection module into which all the refactored classes and functions are moved. Also note that the interface of the new CV iterators are different from that of this module. This module will be removed in 0.20.\n",
            "  \"This module will be removed in 0.20.\", DeprecationWarning)\n"
          ],
          "name": "stderr"
        }
      ]
    },
    {
      "metadata": {
        "id": "8J29u-kf1mK_",
        "colab_type": "text"
      },
      "cell_type": "markdown",
      "source": [
        "# Step 2: Prep your vector data"
      ]
    },
    {
      "metadata": {
        "id": "nJRFiGhI1mK_",
        "colab_type": "text"
      },
      "cell_type": "markdown",
      "source": [
        "## Step 2.1 Read in your vector data: GeoPandas"
      ]
    },
    {
      "metadata": {
        "id": "nyCloPks1mLA",
        "colab_type": "text"
      },
      "cell_type": "markdown",
      "source": [
        "Reading in tabular data is pretty simple. Just remember:\n",
        "* DataFrame = Pandas = `pd.read_csv()`\n",
        "* GeoDataFrame = DataFrame with geometry attribute = GeoPandas = `gpd.read_file()`"
      ]
    },
    {
      "metadata": {
        "id": "ytyKh93J4cR3",
        "colab_type": "code",
        "colab": {
          "resources": {
            "http://localhost:8080/nbextensions/google.colab/files.js": {
              "data": "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",
              "ok": true,
              "headers": [
                [
                  "content-type",
                  "application/javascript"
                ]
              ],
              "status": 200,
              "status_text": ""
            }
          },
          "base_uri": "https://localhost:8080/",
          "height": 205
        },
        "outputId": "2840d497-073a-42e9-fe41-ee7c45f3f58a"
      },
      "cell_type": "code",
      "source": [
        "# Loading my local files into Colaboratory\n",
        "from google.colab import files\n",
        "uploaded = files.upload()"
      ],
      "execution_count": 0,
      "outputs": [
        {
          "output_type": "display_data",
          "data": {
            "text/plain": [
              "<IPython.core.display.HTML object>"
            ],
            "text/html": [
              "\n",
              "     <input type=\"file\" id=\"files-a0428bde-3785-4af6-bf73-20ed2da90260\" name=\"files[]\" multiple disabled />\n",
              "     <output id=\"result-a0428bde-3785-4af6-bf73-20ed2da90260\">\n",
              "      Upload widget is only available when the cell has been executed in the\n",
              "      current browser session. Please rerun this cell to enable.\n",
              "      </output>\n",
              "      <script src=\"/nbextensions/google.colab/files.js\"></script> "
            ]
          },
          "metadata": {
            "tags": []
          }
        },
        {
          "output_type": "stream",
          "text": [
            "Saving WDPA_polygons.cpg to WDPA_polygons (1).cpg\n",
            "Saving WDPA_polygons.dbf to WDPA_polygons (1).dbf\n",
            "Saving WDPA_polygons.prj to WDPA_polygons (1).prj\n",
            "Saving WDPA_polygons.shp to WDPA_polygons (1).shp\n",
            "Saving WDPA_polygons.shx to WDPA_polygons (1).shx\n"
          ],
          "name": "stdout"
        }
      ]
    },
    {
      "metadata": {
        "id": "6lZggwYl1mLB",
        "colab_type": "code",
        "colab": {}
      },
      "cell_type": "code",
      "source": [
        "# Define your vector filepath\n",
        "conserve_fp = \"WDPA_polygons.shp\"\n",
        "\n",
        "# Read vector data in as GeoDataFrame\n",
        "conserve = gpd.read_file(conserve_fp)"
      ],
      "execution_count": 0,
      "outputs": []
    },
    {
      "metadata": {
        "id": "qiWCmE0T1mLD",
        "colab_type": "text"
      },
      "cell_type": "markdown",
      "source": [
        "Our first preprocessing step is to check on the data's projection. Projections can be tricky and I'm not going to delve too far into this topic here, but below are some basic steps for identifying and changing your data's projection (more details can be found [here](http://geopandas.org/projections.html))."
      ]
    },
    {
      "metadata": {
        "id": "D3IQ6kAJ1mLD",
        "colab_type": "code",
        "colab": {
          "base_uri": "https://localhost:8080/",
          "height": 34
        },
        "outputId": "a8adeb73-d5cb-41ed-c17f-349badebae06"
      },
      "cell_type": "code",
      "source": [
        "# Check the Coordinate Reference System (CRS)\n",
        "conserve.crs"
      ],
      "execution_count": 0,
      "outputs": [
        {
          "output_type": "execute_result",
          "data": {
            "text/plain": [
              "{'init': u'epsg:4326'}"
            ]
          },
          "metadata": {
            "tags": []
          },
          "execution_count": 5
        }
      ]
    },
    {
      "metadata": {
        "id": "j8m5oyP-1mLL",
        "colab_type": "code",
        "colab": {}
      },
      "cell_type": "code",
      "source": [
        "# Change your CRS, for fun. Then change it back (because we like EPSG = 4326).\n",
        "conserve = conserve.to_crs(epsg=3857)\n",
        "conserve = conserve.to_crs(epsg=4326)"
      ],
      "execution_count": 0,
      "outputs": []
    },
    {
      "metadata": {
        "id": "F82jApzI1mLO",
        "colab_type": "text"
      },
      "cell_type": "markdown",
      "source": [
        "### Exercise 2.1"
      ]
    },
    {
      "metadata": {
        "id": "4luBoD9C1mLO",
        "colab_type": "code",
        "colab": {}
      },
      "cell_type": "code",
      "source": [
        "# Read in your WDPA shapefile as a GeoDataFrame.\n",
        "\n",
        "# Check the projection of your data."
      ],
      "execution_count": 0,
      "outputs": []
    },
    {
      "metadata": {
        "id": "fD5yzPop1mLQ",
        "colab_type": "text"
      },
      "cell_type": "markdown",
      "source": [
        "## Step 2.2 Explore your vector data: GeoPandas"
      ]
    },
    {
      "metadata": {
        "id": "sn6Xos8T1mLS",
        "colab_type": "text"
      },
      "cell_type": "markdown",
      "source": [
        "We can use some basic exploratory functions in GeoPandas to query our data."
      ]
    },
    {
      "metadata": {
        "id": "zeCs2GRG1mLT",
        "colab_type": "code",
        "colab": {
          "base_uri": "https://localhost:8080/",
          "height": 595
        },
        "outputId": "1a280465-42a7-4012-bb3b-3029b60e2513"
      },
      "cell_type": "code",
      "source": [
        "# Look at all of the attributes in your dataset\n",
        "conserve.info()"
      ],
      "execution_count": 0,
      "outputs": [
        {
          "output_type": "stream",
          "text": [
            "<class 'geopandas.geodataframe.GeoDataFrame'>\n",
            "RangeIndex: 143 entries, 0 to 142\n",
            "Data columns (total 29 columns):\n",
            "WDPAID        143 non-null float64\n",
            "WDPA_PID      143 non-null object\n",
            "PA_DEF        143 non-null object\n",
            "NAME          143 non-null object\n",
            "ORIG_NAME     143 non-null object\n",
            "DESIG         143 non-null object\n",
            "DESIG_ENG     143 non-null object\n",
            "DESIG_TYPE    143 non-null object\n",
            "IUCN_CAT      143 non-null object\n",
            "INT_CRIT      143 non-null object\n",
            "MARINE        143 non-null object\n",
            "REP_M_AREA    143 non-null float64\n",
            "GIS_M_AREA    143 non-null float64\n",
            "REP_AREA      143 non-null float64\n",
            "GIS_AREA      143 non-null float64\n",
            "NO_TAKE       143 non-null object\n",
            "NO_TK_AREA    143 non-null float64\n",
            "STATUS        143 non-null object\n",
            "STATUS_YR     143 non-null int64\n",
            "GOV_TYPE      143 non-null object\n",
            "OWN_TYPE      143 non-null object\n",
            "MANG_AUTH     143 non-null object\n",
            "MANG_PLAN     143 non-null object\n",
            "VERIF         143 non-null object\n",
            "METADATAID    143 non-null int64\n",
            "SUB_LOC       143 non-null object\n",
            "PARENT_ISO    143 non-null object\n",
            "ISO3          143 non-null object\n",
            "geometry      143 non-null object\n",
            "dtypes: float64(6), int64(2), object(21)\n",
            "memory usage: 32.5+ KB\n"
          ],
          "name": "stdout"
        }
      ]
    },
    {
      "metadata": {
        "id": "tkiCTJZf1mLX",
        "colab_type": "text"
      },
      "cell_type": "markdown",
      "source": [
        "There are 143 data objects with 29 attributes, of various data types (object, float, integer). In the pandas world, data types break down like this:\n",
        "* dtype('O') = object = string\n",
        "* dtype('int64') = integer\n",
        "* dtype('float64') = float\n",
        "\n",
        "More precise info on data types [here](https://docs.scipy.org/doc/numpy-1.13.0/user/basics.types.html#)"
      ]
    },
    {
      "metadata": {
        "id": "u3qTTUvU1mLY",
        "colab_type": "code",
        "colab": {
          "base_uri": "https://localhost:8080/",
          "height": 34
        },
        "outputId": "df1019e7-f5fa-4b9a-caf5-a4fa4c6c2a5c"
      },
      "cell_type": "code",
      "source": [
        "# What is the total conserved area in the DR? Conserved area = \"GIS_AREA\" (we'll discuss how to use the inherent geometry of the GeoDataFrame to do this later).\n",
        "area_sum = conserve.GIS_AREA.sum()\n",
        "area_sum"
      ],
      "execution_count": 0,
      "outputs": [
        {
          "output_type": "execute_result",
          "data": {
            "text/plain": [
              "65255.47670531727"
            ]
          },
          "metadata": {
            "tags": []
          },
          "execution_count": 8
        }
      ]
    },
    {
      "metadata": {
        "id": "GNZyFN0X1mLc",
        "colab_type": "code",
        "colab": {
          "base_uri": "https://localhost:8080/",
          "height": 34
        },
        "outputId": "c08d6466-2e29-4c69-e3d9-0be196d7759a"
      },
      "cell_type": "code",
      "source": [
        "# What is the largest area conserved?\n",
        "area_max = conserve.GIS_AREA.max()\n",
        "area_max"
      ],
      "execution_count": 0,
      "outputs": [
        {
          "output_type": "execute_result",
          "data": {
            "text/plain": [
              "35469.1970057065"
            ]
          },
          "metadata": {
            "tags": []
          },
          "execution_count": 9
        }
      ]
    },
    {
      "metadata": {
        "id": "EhTlDpWb1mLf",
        "colab_type": "code",
        "colab": {
          "base_uri": "https://localhost:8080/",
          "height": 34
        },
        "outputId": "68dcb8b1-cfab-4abf-cb06-19501d4568d6"
      },
      "cell_type": "code",
      "source": [
        "# What is the smallest area conserved?\n",
        "area_min = conserve.GIS_AREA.min()\n",
        "area_min"
      ],
      "execution_count": 0,
      "outputs": [
        {
          "output_type": "execute_result",
          "data": {
            "text/plain": [
              "0.007879848064912"
            ]
          },
          "metadata": {
            "tags": []
          },
          "execution_count": 10
        }
      ]
    },
    {
      "metadata": {
        "id": "eWbK-61m1mLj",
        "colab_type": "code",
        "colab": {
          "base_uri": "https://localhost:8080/",
          "height": 34
        },
        "outputId": "50fc79ae-f5fc-4ca3-b2db-fbf0b3ed22b5"
      },
      "cell_type": "code",
      "source": [
        "# What are the unique values for the \"MARINE\" attribute?\n",
        "conserve['MARINE'].unique()"
      ],
      "execution_count": 0,
      "outputs": [
        {
          "output_type": "execute_result",
          "data": {
            "text/plain": [
              "array([u'2', u'1', u'0'], dtype=object)"
            ]
          },
          "metadata": {
            "tags": []
          },
          "execution_count": 11
        }
      ]
    },
    {
      "metadata": {
        "id": "FqKSPaqu1mLn",
        "colab_type": "code",
        "colab": {
          "base_uri": "https://localhost:8080/",
          "height": 85
        },
        "outputId": "dcf3dcf1-15bd-4267-ac83-ee1dfe85dad4"
      },
      "cell_type": "code",
      "source": [
        "# How many different areas are \"Marine\" (2), \"Terrestrial\" (0), or both (1)?\n",
        "type_park = conserve['MARINE'].value_counts()\n",
        "type_park"
      ],
      "execution_count": 0,
      "outputs": [
        {
          "output_type": "execute_result",
          "data": {
            "text/plain": [
              "0    109\n",
              "1     27\n",
              "2      7\n",
              "Name: MARINE, dtype: int64"
            ]
          },
          "metadata": {
            "tags": []
          },
          "execution_count": 12
        }
      ]
    },
    {
      "metadata": {
        "id": "DzWE-9Ky1mLq",
        "colab_type": "code",
        "colab": {
          "base_uri": "https://localhost:8080/",
          "height": 34
        },
        "outputId": "8b37b7b5-e68a-4a2a-e4eb-4429f36558d8"
      },
      "cell_type": "code",
      "source": [
        "# Write all of this info into a string\n",
        "\"The total conserved area is {} square meters and there are {} MPAs, {} terrestrial areas, and {} mixed areas\".format(area_sum, type_park[\"2\"], type_park[\"0\"], type_park[\"1\"])"
      ],
      "execution_count": 0,
      "outputs": [
        {
          "output_type": "execute_result",
          "data": {
            "text/plain": [
              "'The total conserved area is 65255.4767053 square meters and there are 7 MPAs, 109 terrestrial areas, and 27 mixed areas'"
            ]
          },
          "metadata": {
            "tags": []
          },
          "execution_count": 13
        }
      ]
    },
    {
      "metadata": {
        "id": "9zV-u_cC1mLs",
        "colab_type": "text"
      },
      "cell_type": "markdown",
      "source": [
        "### Exercise 2.2"
      ]
    },
    {
      "metadata": {
        "id": "EyfTJmGV1mLt",
        "colab_type": "code",
        "colab": {}
      },
      "cell_type": "code",
      "source": [
        "# What are the options for park designation in English (\"DESIG_ENG\")?\n"
      ],
      "execution_count": 0,
      "outputs": []
    },
    {
      "metadata": {
        "id": "sK7E6rjZ1mLv",
        "colab_type": "code",
        "colab": {}
      },
      "cell_type": "code",
      "source": [
        "# How many different areas are designated as \"Wildlife Refuge\"?\n"
      ],
      "execution_count": 0,
      "outputs": []
    },
    {
      "metadata": {
        "id": "o2QqMb171mLz",
        "colab_type": "text"
      },
      "cell_type": "markdown",
      "source": [
        "For a complete list of methods available for exploring GeoDataFrames, see [here](https://pandas.pydata.org/pandas-docs/stable/generated/pandas.Series.html)."
      ]
    },
    {
      "metadata": {
        "id": "qjl7rkUL1mL0",
        "colab_type": "text"
      },
      "cell_type": "markdown",
      "source": [
        "## Step 2.3 Plot your vector data: GeoPandas"
      ]
    },
    {
      "metadata": {
        "id": "-4UoYzZn1mL0",
        "colab_type": "text"
      },
      "cell_type": "markdown",
      "source": [
        "GeoPandas offers some basic plotting methods for quick visualization. You can create more advanced plots (with customizable layering, formatting) using the Matplotlib library. Matplotlib can be a bit confusing at first, so here's a [great tutorial](https://github.com/matplotlib/AnatomyOfMatplotlib/blob/master/AnatomyOfMatplotlib-Part1-Figures_Subplots_and_layouts.ipynb) if you want to learn more. As in R, you can also create interactive maps through [Leaflet](https://automating-gis-processes.github.io/2016/Lesson5-interactive-map-folium.html) and [Bokeh](https://automating-gis-processes.github.io/2016/Lesson5-interactive-map-bokeh.html)."
      ]
    },
    {
      "metadata": {
        "id": "gSHZDyO81mL1",
        "colab_type": "code",
        "colab": {
          "base_uri": "https://localhost:8080/",
          "height": 364
        },
        "outputId": "f41274ce-97c7-4bae-d17c-7b27bbf20fc3"
      },
      "cell_type": "code",
      "source": [
        "# Plot conservation areas\n",
        "conserve.plot()"
      ],
      "execution_count": 0,
      "outputs": [
        {
          "output_type": "execute_result",
          "data": {
            "text/plain": [
              "<matplotlib.axes._subplots.AxesSubplot at 0x7fcf5666bd10>"
            ]
          },
          "metadata": {
            "tags": []
          },
          "execution_count": 14
        },
        {
          "output_type": "display_data",
          "data": {
            "image/png": "[encoded data removed]",
            "text/plain": [
              "<matplotlib.figure.Figure at 0x7fcf7e6ad210>"
            ]
          },
          "metadata": {
            "tags": []
          }
        }
      ]
    },
    {
      "metadata": {
        "id": "nQGfTSlV1mL3",
        "colab_type": "code",
        "colab": {}
      },
      "cell_type": "code",
      "source": [
        "# Plot conservation areas as choropleth by park type\n",
        "conserve.plot(column = \"DESIG_ENG\", cmap = \"Paired\")"
      ],
      "execution_count": 0,
      "outputs": []
    },
    {
      "metadata": {
        "id": "G6nX3UmE1mL5",
        "colab_type": "code",
        "colab": {}
      },
      "cell_type": "code",
      "source": [
        "# Make it red! Color palettes: https://matplotlib.org/users/colormaps.html\n",
        "conserve.plot(column = \"DESIG_ENG\", cmap = \"hot\")"
      ],
      "execution_count": 0,
      "outputs": []
    },
    {
      "metadata": {
        "id": "itP1yj0r1mL7",
        "colab_type": "code",
        "colab": {}
      },
      "cell_type": "code",
      "source": [
        "# Plot conservation areas where the area has a Use Management Plan.\n",
        "conserve[conserve['MANG_PLAN'] != \"No\"].plot()"
      ],
      "execution_count": 0,
      "outputs": []
    },
    {
      "metadata": {
        "id": "wz7HOiZP1mL_",
        "colab_type": "text"
      },
      "cell_type": "markdown",
      "source": [
        "### Exercise 2.3"
      ]
    },
    {
      "metadata": {
        "id": "9g8pH6vZ1mL_",
        "colab_type": "code",
        "colab": {}
      },
      "cell_type": "code",
      "source": [
        "# Plot conservation areas as a choropleth by the \"MARINE\" attribute\n",
        "conserve.plot(column = \"MARINE\")"
      ],
      "execution_count": 0,
      "outputs": []
    },
    {
      "metadata": {
        "id": "_HjXmxEf1mMB",
        "colab_type": "code",
        "colab": {}
      },
      "cell_type": "code",
      "source": [
        "# Make it blue (obviously)! https://matplotlib.org/users/colormaps.html\n",
        "conserve.plot(column = 'MARINE', cmap=\"Blues\")"
      ],
      "execution_count": 0,
      "outputs": []
    },
    {
      "metadata": {
        "id": "DVjnH-z71mMD",
        "colab_type": "text"
      },
      "cell_type": "markdown",
      "source": [
        "## Step 2.4 Filter your vector data: GeoPandas"
      ]
    },
    {
      "metadata": {
        "id": "sToRQcBk1mME",
        "colab_type": "text"
      },
      "cell_type": "markdown",
      "source": [
        "**Looking above at our \"To Do\" list, our first task was this:** \"Filter the WDPA database to find only conservation areas for the marine environment (Marine Protected Areas).\"\n",
        "\n",
        "In R-speak, we're using Python to `dplyr::filter`. To subset data in Python, we use the `loc` and `iloc` indexing tools. Documentation can be found [here](http://pandas.pydata.org/pandas-docs/version/0.17/generated/pandas.DataFrame.drop_duplicates.html) under \"Indexing and Selecting Data\" (basically the Python version of R's Data Wrangling cheat sheet).\n",
        "\n",
        "The basics are this:\n",
        "* `iloc` selects data on a known index (integer value). Example: `iris.iloc[7]` would select the 8th row of data.\n",
        "* `loc` selects data on a known label. Example `iris.loc['sepal_length'>7]` selects data with sepal length over 7 centimeters.\n",
        "\n",
        "Let's try it out:"
      ]
    },
    {
      "metadata": {
        "id": "RAWvIK6O1mME",
        "colab_type": "code",
        "colab": {
          "base_uri": "https://localhost:8080/",
          "height": 395
        },
        "outputId": "2947a0bd-54d6-494e-f774-0d377d9ccfd5"
      },
      "cell_type": "code",
      "source": [
        "# Take a look at our first few lines of data\n",
        "conserve.head(3)"
      ],
      "execution_count": 0,
      "outputs": [
        {
          "output_type": "execute_result",
          "data": {
            "text/html": [
              "<div>\n",
              "<style scoped>\n",
              "    .dataframe tbody tr th:only-of-type {\n",
              "        vertical-align: middle;\n",
              "    }\n",
              "\n",
              "    .dataframe tbody tr th {\n",
              "        vertical-align: top;\n",
              "    }\n",
              "\n",
              "    .dataframe thead th {\n",
              "        text-align: right;\n",
              "    }\n",
              "</style>\n",
              "<table border=\"1\" class=\"dataframe\">\n",
              "  <thead>\n",
              "    <tr style=\"text-align: right;\">\n",
              "      <th></th>\n",
              "      <th>WDPAID</th>\n",
              "      <th>WDPA_PID</th>\n",
              "      <th>PA_DEF</th>\n",
              "      <th>NAME</th>\n",
              "      <th>ORIG_NAME</th>\n",
              "      <th>DESIG</th>\n",
              "      <th>DESIG_ENG</th>\n",
              "      <th>DESIG_TYPE</th>\n",
              "      <th>IUCN_CAT</th>\n",
              "      <th>INT_CRIT</th>\n",
              "      <th>...</th>\n",
              "      <th>GOV_TYPE</th>\n",
              "      <th>OWN_TYPE</th>\n",
              "      <th>MANG_AUTH</th>\n",
              "      <th>MANG_PLAN</th>\n",
              "      <th>VERIF</th>\n",
              "      <th>METADATAID</th>\n",
              "      <th>SUB_LOC</th>\n",
              "      <th>PARENT_ISO</th>\n",
              "      <th>ISO3</th>\n",
              "      <th>geometry</th>\n",
              "    </tr>\n",
              "  </thead>\n",
              "  <tbody>\n",
              "    <tr>\n",
              "      <th>0</th>\n",
              "      <td>555624222.0</td>\n",
              "      <td>555624222</td>\n",
              "      <td>1</td>\n",
              "      <td>La Caleta</td>\n",
              "      <td>La Caleta</td>\n",
              "      <td>Specially Protected Area (Cartagena Convention)</td>\n",
              "      <td>Specially Protected Area (Cartagena Convention)</td>\n",
              "      <td>Regional</td>\n",
              "      <td>II</td>\n",
              "      <td>Not Applicable</td>\n",
              "      <td>...</td>\n",
              "      <td>Federal or national ministry or agency</td>\n",
              "      <td>Not Reported</td>\n",
              "      <td>Secretaria de Estado de Medio Ambiente y Recur...</td>\n",
              "      <td>http://www.spaw-palisting.org/area_public/show...</td>\n",
              "      <td>State Verified</td>\n",
              "      <td>1900</td>\n",
              "      <td>Marine</td>\n",
              "      <td>DOM</td>\n",
              "      <td>DOM</td>\n",
              "      <td>POLYGON ((-69.70475633263862 18.45382580331822...</td>\n",
              "    </tr>\n",
              "    <tr>\n",
              "      <th>1</th>\n",
              "      <td>555624132.0</td>\n",
              "      <td>555624132</td>\n",
              "      <td>1</td>\n",
              "      <td>Humedales de Jaragua</td>\n",
              "      <td>Humedales de Jaragua</td>\n",
              "      <td>Ramsar Site, Wetland of International Importance</td>\n",
              "      <td>Ramsar Site, Wetland of International Importance</td>\n",
              "      <td>International</td>\n",
              "      <td>Not Reported</td>\n",
              "      <td>(ii) (iv) (vii) (viii)</td>\n",
              "      <td>...</td>\n",
              "      <td>Not Reported</td>\n",
              "      <td>Not Reported</td>\n",
              "      <td>Not Reported</td>\n",
              "      <td>https://rsis.ramsar.org/ris/2210</td>\n",
              "      <td>State Verified</td>\n",
              "      <td>1856</td>\n",
              "      <td>Not Reported</td>\n",
              "      <td>DOM</td>\n",
              "      <td>DOM</td>\n",
              "      <td>(POLYGON ((-71.53151544068498 17.7571400007105...</td>\n",
              "    </tr>\n",
              "    <tr>\n",
              "      <th>2</th>\n",
              "      <td>555624219.0</td>\n",
              "      <td>555624219</td>\n",
              "      <td>1</td>\n",
              "      <td>Los Haitises</td>\n",
              "      <td>Los Haitises</td>\n",
              "      <td>Specially Protected Area (Cartagena Convention)</td>\n",
              "      <td>Specially Protected Area (Cartagena Convention)</td>\n",
              "      <td>Regional</td>\n",
              "      <td>II</td>\n",
              "      <td>Not Applicable</td>\n",
              "      <td>...</td>\n",
              "      <td>Federal or national ministry or agency</td>\n",
              "      <td>Not Reported</td>\n",
              "      <td>Secretaria de Estado de Medio Ambiente y Recur...</td>\n",
              "      <td>http://www.spaw-palisting.org/area_public/show...</td>\n",
              "      <td>State Verified</td>\n",
              "      <td>1900</td>\n",
              "      <td>Marine</td>\n",
              "      <td>DOM</td>\n",
              "      <td>DOM</td>\n",
              "      <td>(POLYGON ((-69.87710541868012 19.1207403670743...</td>\n",
              "    </tr>\n",
              "  </tbody>\n",
              "</table>\n",
              "<p>3 rows × 29 columns</p>\n",
              "</div>"
            ],
            "text/plain": [
              "        WDPAID   WDPA_PID PA_DEF                  NAME             ORIG_NAME  \\\n",
              "0  555624222.0  555624222      1             La Caleta             La Caleta   \n",
              "1  555624132.0  555624132      1  Humedales de Jaragua  Humedales de Jaragua   \n",
              "2  555624219.0  555624219      1          Los Haitises          Los Haitises   \n",
              "\n",
              "                                              DESIG  \\\n",
              "0   Specially Protected Area (Cartagena Convention)   \n",
              "1  Ramsar Site, Wetland of International Importance   \n",
              "2   Specially Protected Area (Cartagena Convention)   \n",
              "\n",
              "                                          DESIG_ENG     DESIG_TYPE  \\\n",
              "0   Specially Protected Area (Cartagena Convention)       Regional   \n",
              "1  Ramsar Site, Wetland of International Importance  International   \n",
              "2   Specially Protected Area (Cartagena Convention)       Regional   \n",
              "\n",
              "       IUCN_CAT                INT_CRIT  \\\n",
              "0            II          Not Applicable   \n",
              "1  Not Reported  (ii) (iv) (vii) (viii)   \n",
              "2            II          Not Applicable   \n",
              "\n",
              "                         ...                          \\\n",
              "0                        ...                           \n",
              "1                        ...                           \n",
              "2                        ...                           \n",
              "\n",
              "                                 GOV_TYPE      OWN_TYPE  \\\n",
              "0  Federal or national ministry or agency  Not Reported   \n",
              "1                            Not Reported  Not Reported   \n",
              "2  Federal or national ministry or agency  Not Reported   \n",
              "\n",
              "                                           MANG_AUTH  \\\n",
              "0  Secretaria de Estado de Medio Ambiente y Recur...   \n",
              "1                                       Not Reported   \n",
              "2  Secretaria de Estado de Medio Ambiente y Recur...   \n",
              "\n",
              "                                           MANG_PLAN           VERIF  \\\n",
              "0  http://www.spaw-palisting.org/area_public/show...  State Verified   \n",
              "1                   https://rsis.ramsar.org/ris/2210  State Verified   \n",
              "2  http://www.spaw-palisting.org/area_public/show...  State Verified   \n",
              "\n",
              "  METADATAID       SUB_LOC PARENT_ISO  ISO3  \\\n",
              "0       1900        Marine        DOM   DOM   \n",
              "1       1856  Not Reported        DOM   DOM   \n",
              "2       1900        Marine        DOM   DOM   \n",
              "\n",
              "                                            geometry  \n",
              "0  POLYGON ((-69.70475633263862 18.45382580331822...  \n",
              "1  (POLYGON ((-71.53151544068498 17.7571400007105...  \n",
              "2  (POLYGON ((-69.87710541868012 19.1207403670743...  \n",
              "\n",
              "[3 rows x 29 columns]"
            ]
          },
          "metadata": {
            "tags": []
          },
          "execution_count": 15
        }
      ]
    },
    {
      "metadata": {
        "id": "U2j4WUyq1mMH",
        "colab_type": "code",
        "colab": {
          "base_uri": "https://localhost:8080/",
          "height": 85
        },
        "outputId": "3b0153b1-9c37-465e-f022-8b8cffefde2f"
      },
      "cell_type": "code",
      "source": [
        "# Select rows 0 through 2, column 4\n",
        "conserve.iloc[0:3, 3]"
      ],
      "execution_count": 0,
      "outputs": [
        {
          "output_type": "execute_result",
          "data": {
            "text/plain": [
              "0               La Caleta\n",
              "1    Humedales de Jaragua\n",
              "2            Los Haitises\n",
              "Name: NAME, dtype: object"
            ]
          },
          "metadata": {
            "tags": []
          },
          "execution_count": 16
        }
      ]
    },
    {
      "metadata": {
        "id": "11muwsJe1mMJ",
        "colab_type": "code",
        "colab": {
          "base_uri": "https://localhost:8080/",
          "height": 173
        },
        "outputId": "93dcd108-dab9-4b5d-d662-2606ba9ee139"
      },
      "cell_type": "code",
      "source": [
        "# Select index value 3 THROUGH 6 for name and metadata ID\n",
        "conserve.loc[3:6, ['NAME','METADATAID']]"
      ],
      "execution_count": 0,
      "outputs": [
        {
          "output_type": "execute_result",
          "data": {
            "text/html": [
              "<div>\n",
              "<style scoped>\n",
              "    .dataframe tbody tr th:only-of-type {\n",
              "        vertical-align: middle;\n",
              "    }\n",
              "\n",
              "    .dataframe tbody tr th {\n",
              "        vertical-align: top;\n",
              "    }\n",
              "\n",
              "    .dataframe thead th {\n",
              "        text-align: right;\n",
              "    }\n",
              "</style>\n",
              "<table border=\"1\" class=\"dataframe\">\n",
              "  <thead>\n",
              "    <tr style=\"text-align: right;\">\n",
              "      <th></th>\n",
              "      <th>NAME</th>\n",
              "      <th>METADATAID</th>\n",
              "    </tr>\n",
              "  </thead>\n",
              "  <tbody>\n",
              "    <tr>\n",
              "      <th>3</th>\n",
              "      <td>Jaragua</td>\n",
              "      <td>1900</td>\n",
              "    </tr>\n",
              "    <tr>\n",
              "      <th>4</th>\n",
              "      <td>Sierra de Bahoruco</td>\n",
              "      <td>1900</td>\n",
              "    </tr>\n",
              "    <tr>\n",
              "      <th>5</th>\n",
              "      <td>Carretera Cabral - Polo</td>\n",
              "      <td>830</td>\n",
              "    </tr>\n",
              "    <tr>\n",
              "      <th>6</th>\n",
              "      <td>Carretera Nagua - Sánchez</td>\n",
              "      <td>830</td>\n",
              "    </tr>\n",
              "  </tbody>\n",
              "</table>\n",
              "</div>"
            ],
            "text/plain": [
              "                        NAME  METADATAID\n",
              "3                    Jaragua        1900\n",
              "4         Sierra de Bahoruco        1900\n",
              "5    Carretera Cabral - Polo         830\n",
              "6  Carretera Nagua - Sánchez         830"
            ]
          },
          "metadata": {
            "tags": []
          },
          "execution_count": 17
        }
      ]
    },
    {
      "metadata": {
        "id": "5Say35Et1mMK",
        "colab_type": "code",
        "colab": {
          "base_uri": "https://localhost:8080/",
          "height": 111
        },
        "outputId": "6774a1a2-d12a-4011-d6b0-0b13134d7a0a"
      },
      "cell_type": "code",
      "source": [
        "# Select indices 3 AND 6 for name and metadata ID\n",
        "conserve.loc[[3,6], ['NAME','METADATAID']]"
      ],
      "execution_count": 0,
      "outputs": [
        {
          "output_type": "execute_result",
          "data": {
            "text/html": [
              "<div>\n",
              "<style scoped>\n",
              "    .dataframe tbody tr th:only-of-type {\n",
              "        vertical-align: middle;\n",
              "    }\n",
              "\n",
              "    .dataframe tbody tr th {\n",
              "        vertical-align: top;\n",
              "    }\n",
              "\n",
              "    .dataframe thead th {\n",
              "        text-align: right;\n",
              "    }\n",
              "</style>\n",
              "<table border=\"1\" class=\"dataframe\">\n",
              "  <thead>\n",
              "    <tr style=\"text-align: right;\">\n",
              "      <th></th>\n",
              "      <th>NAME</th>\n",
              "      <th>METADATAID</th>\n",
              "    </tr>\n",
              "  </thead>\n",
              "  <tbody>\n",
              "    <tr>\n",
              "      <th>3</th>\n",
              "      <td>Jaragua</td>\n",
              "      <td>1900</td>\n",
              "    </tr>\n",
              "    <tr>\n",
              "      <th>6</th>\n",
              "      <td>Carretera Nagua - Sánchez</td>\n",
              "      <td>830</td>\n",
              "    </tr>\n",
              "  </tbody>\n",
              "</table>\n",
              "</div>"
            ],
            "text/plain": [
              "                        NAME  METADATAID\n",
              "3                    Jaragua        1900\n",
              "6  Carretera Nagua - Sánchez         830"
            ]
          },
          "metadata": {
            "tags": []
          },
          "execution_count": 18
        }
      ]
    },
    {
      "metadata": {
        "id": "2UxUi_fA1mMN",
        "colab_type": "code",
        "colab": {
          "base_uri": "https://localhost:8080/",
          "height": 279
        },
        "outputId": "7af47e82-7cf6-46ac-ed31-b58be5404144"
      },
      "cell_type": "code",
      "source": [
        "# Filter DataFrame for only those areas with the name \"Jaragua\"\n",
        "conserve.loc[conserve['NAME'] == \"Jaragua\"]"
      ],
      "execution_count": 0,
      "outputs": [
        {
          "output_type": "execute_result",
          "data": {
            "text/html": [
              "<div>\n",
              "<style scoped>\n",
              "    .dataframe tbody tr th:only-of-type {\n",
              "        vertical-align: middle;\n",
              "    }\n",
              "\n",
              "    .dataframe tbody tr th {\n",
              "        vertical-align: top;\n",
              "    }\n",
              "\n",
              "    .dataframe thead th {\n",
              "        text-align: right;\n",
              "    }\n",
              "</style>\n",
              "<table border=\"1\" class=\"dataframe\">\n",
              "  <thead>\n",
              "    <tr style=\"text-align: right;\">\n",
              "      <th></th>\n",
              "      <th>WDPAID</th>\n",
              "      <th>WDPA_PID</th>\n",
              "      <th>PA_DEF</th>\n",
              "      <th>NAME</th>\n",
              "      <th>ORIG_NAME</th>\n",
              "      <th>DESIG</th>\n",
              "      <th>DESIG_ENG</th>\n",
              "      <th>DESIG_TYPE</th>\n",
              "      <th>IUCN_CAT</th>\n",
              "      <th>INT_CRIT</th>\n",
              "      <th>...</th>\n",
              "      <th>GOV_TYPE</th>\n",
              "      <th>OWN_TYPE</th>\n",
              "      <th>MANG_AUTH</th>\n",
              "      <th>MANG_PLAN</th>\n",
              "      <th>VERIF</th>\n",
              "      <th>METADATAID</th>\n",
              "      <th>SUB_LOC</th>\n",
              "      <th>PARENT_ISO</th>\n",
              "      <th>ISO3</th>\n",
              "      <th>geometry</th>\n",
              "    </tr>\n",
              "  </thead>\n",
              "  <tbody>\n",
              "    <tr>\n",
              "      <th>3</th>\n",
              "      <td>555624220.0</td>\n",
              "      <td>555624220</td>\n",
              "      <td>1</td>\n",
              "      <td>Jaragua</td>\n",
              "      <td>Jaragua</td>\n",
              "      <td>Specially Protected Area (Cartagena Convention)</td>\n",
              "      <td>Specially Protected Area (Cartagena Convention)</td>\n",
              "      <td>Regional</td>\n",
              "      <td>II</td>\n",
              "      <td>Not Applicable</td>\n",
              "      <td>...</td>\n",
              "      <td>Federal or national ministry or agency</td>\n",
              "      <td>Not Reported</td>\n",
              "      <td>Secretaria de Estado de Medio Ambiente y Recur...</td>\n",
              "      <td>http://www.spaw-palisting.org/area_public/show...</td>\n",
              "      <td>State Verified</td>\n",
              "      <td>1900</td>\n",
              "      <td>Marine</td>\n",
              "      <td>DOM</td>\n",
              "      <td>DOM</td>\n",
              "      <td>POLYGON ((-71.6339539899846 18.07129016161172,...</td>\n",
              "    </tr>\n",
              "    <tr>\n",
              "      <th>111</th>\n",
              "      <td>6673.0</td>\n",
              "      <td>6673</td>\n",
              "      <td>1</td>\n",
              "      <td>Jaragua</td>\n",
              "      <td>Jaragua</td>\n",
              "      <td>Parque Nacional</td>\n",
              "      <td>National Park</td>\n",
              "      <td>National</td>\n",
              "      <td>II</td>\n",
              "      <td>Not Applicable</td>\n",
              "      <td>...</td>\n",
              "      <td>Federal or national ministry or agency</td>\n",
              "      <td>Not Reported</td>\n",
              "      <td>Not Reported</td>\n",
              "      <td>Yes, 2015</td>\n",
              "      <td>State Verified</td>\n",
              "      <td>830</td>\n",
              "      <td>Not Reported</td>\n",
              "      <td>DOM</td>\n",
              "      <td>DOM</td>\n",
              "      <td>POLYGON ((-71.67048912077627 18.08464303634707...</td>\n",
              "    </tr>\n",
              "  </tbody>\n",
              "</table>\n",
              "<p>2 rows × 29 columns</p>\n",
              "</div>"
            ],
            "text/plain": [
              "          WDPAID   WDPA_PID PA_DEF     NAME ORIG_NAME  \\\n",
              "3    555624220.0  555624220      1  Jaragua   Jaragua   \n",
              "111       6673.0       6673      1  Jaragua   Jaragua   \n",
              "\n",
              "                                               DESIG  \\\n",
              "3    Specially Protected Area (Cartagena Convention)   \n",
              "111                                  Parque Nacional   \n",
              "\n",
              "                                           DESIG_ENG DESIG_TYPE IUCN_CAT  \\\n",
              "3    Specially Protected Area (Cartagena Convention)   Regional       II   \n",
              "111                                    National Park   National       II   \n",
              "\n",
              "           INT_CRIT                        ...                          \\\n",
              "3    Not Applicable                        ...                           \n",
              "111  Not Applicable                        ...                           \n",
              "\n",
              "                                   GOV_TYPE      OWN_TYPE  \\\n",
              "3    Federal or national ministry or agency  Not Reported   \n",
              "111  Federal or national ministry or agency  Not Reported   \n",
              "\n",
              "                                             MANG_AUTH  \\\n",
              "3    Secretaria de Estado de Medio Ambiente y Recur...   \n",
              "111                                       Not Reported   \n",
              "\n",
              "                                             MANG_PLAN           VERIF  \\\n",
              "3    http://www.spaw-palisting.org/area_public/show...  State Verified   \n",
              "111                                          Yes, 2015  State Verified   \n",
              "\n",
              "    METADATAID       SUB_LOC PARENT_ISO  ISO3  \\\n",
              "3         1900        Marine        DOM   DOM   \n",
              "111        830  Not Reported        DOM   DOM   \n",
              "\n",
              "                                              geometry  \n",
              "3    POLYGON ((-71.6339539899846 18.07129016161172,...  \n",
              "111  POLYGON ((-71.67048912077627 18.08464303634707...  \n",
              "\n",
              "[2 rows x 29 columns]"
            ]
          },
          "metadata": {
            "tags": []
          },
          "execution_count": 19
        }
      ]
    },
    {
      "metadata": {
        "id": "tjw_VO0H1mMO",
        "colab_type": "text"
      },
      "cell_type": "markdown",
      "source": [
        "The WDPA Data Dictionary that Marine Protected Areas are coded by the ordinal `MARINE` attribute, defined as follows:\n",
        "* 0 = 100% terrestrial PA\n",
        "* 1 = Coastal: marine and terrestrial PA\n",
        "* 2 = 100 % marine PA\n",
        "\n",
        "Let's subset our data by *only* those rows that represent 100% MPAs."
      ]
    },
    {
      "metadata": {
        "id": "gRHgeUtc1mMP",
        "colab_type": "code",
        "colab": {
          "base_uri": "https://localhost:8080/",
          "height": 34
        },
        "outputId": "4b4cade4-3b13-435f-e997-711c3c5ab2f9"
      },
      "cell_type": "code",
      "source": [
        "# Select only 100% marine protected areas\n",
        "mpa = conserve.loc[conserve['MARINE'] == '2']\n",
        "len(mpa)"
      ],
      "execution_count": 0,
      "outputs": [
        {
          "output_type": "execute_result",
          "data": {
            "text/plain": [
              "7"
            ]
          },
          "metadata": {
            "tags": []
          },
          "execution_count": 20
        }
      ]
    },
    {
      "metadata": {
        "id": "0IduLWU-1mMR",
        "colab_type": "code",
        "colab": {
          "base_uri": "https://localhost:8080/",
          "height": 266
        },
        "outputId": "2b70aee2-b62b-437c-f998-228d81ae8ee9"
      },
      "cell_type": "code",
      "source": [
        "mpa[['MARINE', 'NAME']]"
      ],
      "execution_count": 0,
      "outputs": [
        {
          "output_type": "execute_result",
          "data": {
            "text/html": [
              "<div>\n",
              "<style scoped>\n",
              "    .dataframe tbody tr th:only-of-type {\n",
              "        vertical-align: middle;\n",
              "    }\n",
              "\n",
              "    .dataframe tbody tr th {\n",
              "        vertical-align: top;\n",
              "    }\n",
              "\n",
              "    .dataframe thead th {\n",
              "        text-align: right;\n",
              "    }\n",
              "</style>\n",
              "<table border=\"1\" class=\"dataframe\">\n",
              "  <thead>\n",
              "    <tr style=\"text-align: right;\">\n",
              "      <th></th>\n",
              "      <th>MARINE</th>\n",
              "      <th>NAME</th>\n",
              "    </tr>\n",
              "  </thead>\n",
              "  <tbody>\n",
              "    <tr>\n",
              "      <th>0</th>\n",
              "      <td>2</td>\n",
              "      <td>La Caleta</td>\n",
              "    </tr>\n",
              "    <tr>\n",
              "      <th>3</th>\n",
              "      <td>2</td>\n",
              "      <td>Jaragua</td>\n",
              "    </tr>\n",
              "    <tr>\n",
              "      <th>80</th>\n",
              "      <td>2</td>\n",
              "      <td>Submarino Monte Cristi</td>\n",
              "    </tr>\n",
              "    <tr>\n",
              "      <th>113</th>\n",
              "      <td>2</td>\n",
              "      <td>Cayos Siete Hermanos</td>\n",
              "    </tr>\n",
              "    <tr>\n",
              "      <th>116</th>\n",
              "      <td>2</td>\n",
              "      <td>Arrecifes del Suroeste</td>\n",
              "    </tr>\n",
              "    <tr>\n",
              "      <th>117</th>\n",
              "      <td>2</td>\n",
              "      <td>Arrecifes del Sureste</td>\n",
              "    </tr>\n",
              "    <tr>\n",
              "      <th>139</th>\n",
              "      <td>2</td>\n",
              "      <td>Santuario de los Bancos de La Plata y La Navidad</td>\n",
              "    </tr>\n",
              "  </tbody>\n",
              "</table>\n",
              "</div>"
            ],
            "text/plain": [
              "    MARINE                                              NAME\n",
              "0        2                                         La Caleta\n",
              "3        2                                           Jaragua\n",
              "80       2                            Submarino Monte Cristi\n",
              "113      2                              Cayos Siete Hermanos\n",
              "116      2                            Arrecifes del Suroeste\n",
              "117      2                             Arrecifes del Sureste\n",
              "139      2  Santuario de los Bancos de La Plata y La Navidad"
            ]
          },
          "metadata": {
            "tags": []
          },
          "execution_count": 21
        }
      ]
    },
    {
      "metadata": {
        "id": "5b6roE2-1mMT",
        "colab_type": "text"
      },
      "cell_type": "markdown",
      "source": [
        "Our resulting DataFrame contains vector data for 7 MPAs in the Dominican Republic."
      ]
    },
    {
      "metadata": {
        "id": "WsT9hcld1mMT",
        "colab_type": "text"
      },
      "cell_type": "markdown",
      "source": [
        "## Before we move on..."
      ]
    },
    {
      "metadata": {
        "id": "5ioV6gzT1mMT",
        "colab_type": "text"
      },
      "cell_type": "markdown",
      "source": [
        "**Can you \"pipe\" in Python?** Yes and no. You won't see any \"%>%\" business in Python, but Python syntax allows you to string together multiple operations. The Python mantra is that \"everything is an object\", meaning everything (strings, dataframes, lists, functions, even modules) can be assigned to a variable or passed as an argument to a function.\n",
        "\n",
        "Confusing? Take a look at our code above. We're running multiple operations through our \"conserve\" geodataframe, like: 1) reprojecting it, 2) filtering it, and 3) plotting it. In R, \"piping\" might look something like:"
      ]
    },
    {
      "metadata": {
        "id": "aw07fuqg1mMU",
        "colab_type": "text"
      },
      "cell_type": "markdown",
      "source": [
        "`conserve %>%`\n",
        "> `st_transform(4326) %>%` \n",
        "   \n",
        "> `dplyr::filter(MARINE == \"2\") %>%`\n",
        "   \n",
        "> `dplyr::select(MARINE, NAME, geometry) %>%`\n",
        "\n",
        "> `plot()`\n",
        "\n",
        "    \n",
        "In Python, \"piping\" works out like this:\n",
        "\n",
        "\n",
        "`conserve.to_crs(epsg=4326).loc[3:6][['MARINE','NAME','geometry']].plot(column = 'MARINE')`\n",
        "\n",
        "\n",
        "Since \"everything is an object\" in Python, the result of each operation can be worked on by subsequent methods. You can see that this line of code simply combines the functions we used in Step 2.2. Let's see if it works."
      ]
    },
    {
      "metadata": {
        "id": "KruGAyTGwEGj",
        "colab_type": "code",
        "colab": {
          "base_uri": "https://localhost:8080/",
          "height": 364
        },
        "outputId": "f749d1f9-5e42-4e28-e5d5-727814955977"
      },
      "cell_type": "code",
      "source": [
        "conserve.to_crs(epsg=4326).loc[conserve['MARINE'] == '2'][['MARINE','GIS_AREA','geometry']].plot()"
      ],
      "execution_count": 0,
      "outputs": [
        {
          "output_type": "execute_result",
          "data": {
            "text/plain": [
              "<matplotlib.axes._subplots.AxesSubplot at 0x7fcf566d7710>"
            ]
          },
          "metadata": {
            "tags": []
          },
          "execution_count": 26
        },
        {
          "output_type": "display_data",
          "data": {
            "image/png": "[encoded data removed]",
            "text/plain": [
              "<matplotlib.figure.Figure at 0x7fcf5432be50>"
            ]
          },
          "metadata": {
            "tags": []
          }
        }
      ]
    },
    {
      "metadata": {
        "id": "xtKTG_Jd1mMZ",
        "colab_type": "text"
      },
      "cell_type": "markdown",
      "source": [
        "Woohoo!"
      ]
    },
    {
      "metadata": {
        "id": "wOsgN1Ju1mMa",
        "colab_type": "text"
      },
      "cell_type": "markdown",
      "source": [
        "## Also before we move on..."
      ]
    },
    {
      "metadata": {
        "id": "Bc1bG_f61mMa",
        "colab_type": "text"
      },
      "cell_type": "markdown",
      "source": [
        "**You can also perform call kinds of operations using the 'geometry' column (every GeoDataFrame has one).**\n",
        "Above, we used the dataset's \"GIS_AREA\" attribute to run summary statistics. This is because the WDPA dataset uses its own methodology and decision factors for calculating polygon areas. Most datasets won't be this finicky.\n",
        "\n",
        "The \"geometry\" column contains a Shapely geometry object (point, polygon, multi-point, multi-polygon, etc.) and is usually automatically detected when GeoPandas reads in your shapefile. But be careful! The geometry column won't always be called \"geometry\". Use the \"name\" method to double check. If GeoPandas chooses the wrong column for geometry, use the `set_geometry` method to specify which column to use."
      ]
    },
    {
      "metadata": {
        "id": "OLmolzi21mMa",
        "colab_type": "code",
        "colab": {}
      },
      "cell_type": "code",
      "source": [
        "# Call your geometry attribute and find its Shapely geometry type\n",
        "conserve.geometry.head()"
      ],
      "execution_count": 0,
      "outputs": []
    },
    {
      "metadata": {
        "id": "5ulFxqi91mMf",
        "colab_type": "code",
        "colab": {}
      },
      "cell_type": "code",
      "source": [
        "# Check which column GeoPandas has chosen as the \"geometry\" attribute\n",
        "conserve.geometry.name"
      ],
      "execution_count": 0,
      "outputs": []
    },
    {
      "metadata": {
        "id": "cpqmpSog1mMh",
        "colab_type": "code",
        "colab": {}
      },
      "cell_type": "code",
      "source": [
        "# Change if necessary (not necessary in our case, so this code is redundant)\n",
        "conserve.set_geometry(\"geometry\")\n",
        "conserve.geometry.name"
      ],
      "execution_count": 0,
      "outputs": []
    },
    {
      "metadata": {
        "id": "RxfEIGLS1mMl",
        "colab_type": "text"
      },
      "cell_type": "markdown",
      "source": [
        "# Step 3: Prep your raster data"
      ]
    },
    {
      "metadata": {
        "id": "y3_7oebp1mMl",
        "colab_type": "text"
      },
      "cell_type": "markdown",
      "source": [
        "## Step 3.1 Read in your raster data: Numpy and OpticalRS"
      ]
    },
    {
      "metadata": {
        "id": "R2G2-U-T1mMm",
        "colab_type": "text"
      },
      "cell_type": "markdown",
      "source": [
        "**Let's turn our attention to our raster data.** One of my favorite parts of Python is its ability to manipulate raster data. By turning a raster into an object called a NumPy array, you can directly access the matrix of values within raster pixels, analyzing and filtering raster data in [all kinds of ways](https://docs.scipy.org/doc/numpy/user/quickstart.html) within the expansive SciPy library. Arrays are also compatible with GeoPandas, so you don't have to worry about converting your vector data into SpatialPolygonsDataFrames (or whatever) to play well with rasters.\n",
        "\n",
        "To turn our raster file into a numpy array, we'll use a library called OpticalRS by Jared Kibele found [here](https://github.com/jkibele/OpticalRS)."
      ]
    },
    {
      "metadata": {
        "id": "rjTmVRzm1mMm",
        "colab_type": "code",
        "colab": {}
      },
      "cell_type": "code",
      "source": [
        "%pylab inline\n",
        "from OpticalRS import *"
      ],
      "execution_count": 0,
      "outputs": []
    },
    {
      "metadata": {
        "id": "dlqhKmME1mMo",
        "colab_type": "text"
      },
      "cell_type": "markdown",
      "source": [
        "Our first step is to read our raster file into OpticalRS. The `RasterDS()` function reads in a file and converts it into a raster-specific object called a 'Raster Dataset'. The `band_array` attribute of the 'Raster Dataset' is a NumPy array of your data."
      ]
    },
    {
      "metadata": {
        "id": "cWwbZMbFWV4y",
        "colab_type": "code",
        "colab": {}
      },
      "cell_type": "code",
      "source": [
        "# Loading my local files into Colaboratory\n",
        "from google.colab import files\n",
        "uploaded = files.upload()"
      ],
      "execution_count": 0,
      "outputs": []
    },
    {
      "metadata": {
        "id": "vQ65aL9w1mMp",
        "colab_type": "code",
        "colab": {}
      },
      "cell_type": "code",
      "source": [
        "# Define your GeoTiff filepath\n",
        "bathy_dr_fp = \"bathy_caribb_4326.tif\"\n",
        "        \n",
        "# Turn your GeoTiff into a \"Raster Dataset\" object.\n",
        "rds = RasterDS(bathy_dr_fp)\n",
        "\n",
        "# Convert the \"Raster Dataset\" object into a numpy array\n",
        "dominican_arr = rds.band_array"
      ],
      "execution_count": 0,
      "outputs": []
    },
    {
      "metadata": {
        "id": "y4svnLWkB9mN",
        "colab_type": "text"
      },
      "cell_type": "markdown",
      "source": [
        "If you have lots of rasters to read in at once, define your root directory and run a loop through it\n",
        "```\n",
        "in_data_dir = \"/home/carlson/tutorial_files/\"\n",
        "filenames = []\n",
        "for p in os.listdir(in_data_dir):\n",
        "    if p.endswith('.tif'):\n",
        "        fp = os.path.join(in_data_dir, p)\n",
        "        filenames.append(fp)\n",
        "```"
      ]
    },
    {
      "metadata": {
        "id": "xEWJnqQ01mMq",
        "colab_type": "text"
      },
      "cell_type": "markdown",
      "source": [
        "Let's check out the properties of our array and make sure the conversion worked"
      ]
    },
    {
      "metadata": {
        "id": "oCdZ-e3s1mMs",
        "colab_type": "code",
        "colab": {}
      },
      "cell_type": "code",
      "source": [
        "# Check array shape\n",
        "dominican_arr.shape"
      ],
      "execution_count": 0,
      "outputs": []
    },
    {
      "metadata": {
        "id": "Q7qjBg3J1mMw",
        "colab_type": "code",
        "colab": {}
      },
      "cell_type": "code",
      "source": [
        "# Find mean depth (pixel value) in your raster\n",
        "dominican_arr.mean()"
      ],
      "execution_count": 0,
      "outputs": []
    },
    {
      "metadata": {
        "id": "PwPeoMPd1mMy",
        "colab_type": "code",
        "colab": {}
      },
      "cell_type": "code",
      "source": [
        "# Check size of array\n",
        "dominican_arr.nbytes"
      ],
      "execution_count": 0,
      "outputs": []
    },
    {
      "metadata": {
        "id": "pxNxhMMk1mM0",
        "colab_type": "code",
        "colab": {}
      },
      "cell_type": "code",
      "source": [
        "# Create a quick plot\n",
        "imshow(dominican_arr.squeeze(), cmap ='viridis')"
      ],
      "execution_count": 0,
      "outputs": []
    },
    {
      "metadata": {
        "id": "bf8ph22Q1mM6",
        "colab_type": "text"
      },
      "cell_type": "markdown",
      "source": [
        "Looks good!"
      ]
    },
    {
      "metadata": {
        "id": "sASK8U2F1mM6",
        "colab_type": "text"
      },
      "cell_type": "markdown",
      "source": [
        "### Exercise 3.1"
      ]
    },
    {
      "metadata": {
        "id": "8YDqXNVC1mM7",
        "colab_type": "code",
        "colab": {}
      },
      "cell_type": "code",
      "source": [
        "# Follow the steps to load in your raster data as a NumPy array."
      ],
      "execution_count": 0,
      "outputs": []
    },
    {
      "metadata": {
        "id": "F5crs_mS1mM8",
        "colab_type": "code",
        "colab": {}
      },
      "cell_type": "code",
      "source": [
        "# Find the max bathymetry value in your array (use NumPy documentation: https://docs.scipy.org/doc/numpy-1.13.0/reference/routines.statistics.html)"
      ],
      "execution_count": 0,
      "outputs": []
    },
    {
      "metadata": {
        "id": "jz6X2zRk1mM9",
        "colab_type": "text"
      },
      "cell_type": "markdown",
      "source": [
        "# Step 4: Analyze bathymetry by MPA (\"Zonal Statistics\")"
      ]
    },
    {
      "metadata": {
        "id": "ZNBgWire1mM9",
        "colab_type": "text"
      },
      "cell_type": "markdown",
      "source": [
        "## Step 4.1 Apply bathymetry to one \"zone\""
      ]
    },
    {
      "metadata": {
        "id": "O46Q6P901mM-",
        "colab_type": "text"
      },
      "cell_type": "markdown",
      "source": [
        "Running statistics on our array/raster is easy, but not terribly meaningful because my bounding box is pretty arbitrary. We need to clip our raster to MPAs in order to assess the bathymetry values within our \"zones\" of interest.  This is called \"zonal statistics\" (aka \"cookie cutter statistics\")."
      ]
    },
    {
      "metadata": {
        "id": "KcEsFu561mM-",
        "colab_type": "text"
      },
      "cell_type": "markdown",
      "source": [
        "![Dwayne the rock image](https://github.com/rrcarlson/Intro_python_geo/blob/master/images/the_rock.png?raw=1)\n",
        "\n",
        "Let's start by clipping our \"Raster Dataset\" object to MPA geometries. This is easy in OpticalRS using the `geometry_subset()` function. `geometry_subset` takes a geometry object (like the 'geometry' attribute of a GeoDataFrame row) and uses it as a bounding box (box-ish) for our \"Raster Dataset\", returning a NumPy array.\n",
        "\n",
        "Since `geometry_subset` takes just one geometry, we'll\n",
        "1. Dissolve all parks designated as \"Marine\" into one geometry.\n",
        "2. Use this geometry as the \"cookie cutter\" for our raster."
      ]
    },
    {
      "metadata": {
        "id": "lUviGUg71mM_",
        "colab_type": "code",
        "colab": {
          "base_uri": "https://localhost:8080/",
          "height": 232
        },
        "outputId": "4d265f22-2945-44c2-de7a-a1770af976d4"
      },
      "cell_type": "code",
      "source": [
        "# Create one geometry for ALL marine protected areas (Remember: MPAs are coded as '1')\n",
        "mpas_dissolved = conserve.dissolve(by='MARINE').loc['2']\n",
        "\n",
        "# Clip your array to the shape of MPAs (dissolved)\n",
        "mpa_array = rds.geometry_subset(mpas_dissolved.geometry)\n",
        "\n",
        "# Plot the clipped array\n",
        "imshow(mpa_array.squeeze())"
      ],
      "execution_count": 3,
      "outputs": [
        {
          "output_type": "error",
          "ename": "NameError",
          "evalue": "ignored",
          "traceback": [
            "\u001b[0;31m\u001b[0m",
            "\u001b[0;31mNameError\u001b[0mTraceback (most recent call last)",
            "\u001b[0;32m<ipython-input-3-3da071167143>\u001b[0m in \u001b[0;36m<module>\u001b[0;34m()\u001b[0m\n\u001b[0;32m----> 1\u001b[0;31m \u001b[0mmpas_dissolved\u001b[0m \u001b[0;34m=\u001b[0m \u001b[0mconserve\u001b[0m\u001b[0;34m.\u001b[0m\u001b[0mdissolve\u001b[0m\u001b[0;34m(\u001b[0m\u001b[0mby\u001b[0m\u001b[0;34m=\u001b[0m\u001b[0;34m'MARINE'\u001b[0m\u001b[0;34m)\u001b[0m\u001b[0;34m.\u001b[0m\u001b[0mloc\u001b[0m\u001b[0;34m[\u001b[0m\u001b[0;34m'2'\u001b[0m\u001b[0;34m]\u001b[0m\u001b[0;34m\u001b[0m\u001b[0m\n\u001b[0m\u001b[1;32m      2\u001b[0m \u001b[0;34m\u001b[0m\u001b[0m\n\u001b[1;32m      3\u001b[0m \u001b[0;31m# Clip your array to the shape of MPAs (dissolved)\u001b[0m\u001b[0;34m\u001b[0m\u001b[0;34m\u001b[0m\u001b[0m\n\u001b[1;32m      4\u001b[0m \u001b[0mmpa_array\u001b[0m \u001b[0;34m=\u001b[0m \u001b[0mrds\u001b[0m\u001b[0;34m.\u001b[0m\u001b[0mgeometry_subset\u001b[0m\u001b[0;34m(\u001b[0m\u001b[0mmpas_dissolved\u001b[0m\u001b[0;34m.\u001b[0m\u001b[0mgeometry\u001b[0m\u001b[0;34m)\u001b[0m\u001b[0;34m\u001b[0m\u001b[0m\n\u001b[1;32m      5\u001b[0m \u001b[0;34m\u001b[0m\u001b[0m\n",
            "\u001b[0;31mNameError\u001b[0m: name 'conserve' is not defined"
          ]
        }
      ]
    },
    {
      "metadata": {
        "id": "h12Zw8bo1mNB",
        "colab_type": "text"
      },
      "cell_type": "markdown",
      "source": [
        "Great! Now we have an array of bathymetry values clipped to MPA boundaries. We can use [any statistical methods](https://docs.scipy.org/doc/numpy-1.14.0/reference/index.html) available within NumPy on this array."
      ]
    },
    {
      "metadata": {
        "id": "ReS6UPC31mNB",
        "colab_type": "code",
        "colab": {}
      },
      "cell_type": "code",
      "source": [
        "# Find the mean, min, max, and range of bathymetry values for MPAs.\n",
        "[mpa_array.mean(), mpa_array.min(), mpa_array.max(), mpa_array.ptp()]"
      ],
      "execution_count": 0,
      "outputs": []
    },
    {
      "metadata": {
        "id": "whvlEFrB1mND",
        "colab_type": "text"
      },
      "cell_type": "markdown",
      "source": [
        "Let's tighten this up by placing these commands in this same function. **Note:** There are lots of preexisting functions for doing \"Raster Stats\" in Python and R, but they're prescriptive in the types of statistics they return. By converting your raster into an array, you can apply anything in the **NumPy** universe to your data!"
      ]
    },
    {
      "metadata": {
        "id": "q9kdCevE1mNE",
        "colab_type": "code",
        "colab": {
          "base_uri": "https://localhost:8080/",
          "height": 17
        },
        "outputId": "0e35547b-215f-489c-ac82-166a83209fa0"
      },
      "cell_type": "code",
      "source": [
        "# Define a function encompassing all of the commands above.\n",
        "# Clip Raster Dataset to vector object g.\n",
        "# Find mean, min, max, and range values of clipped numpy array.\n",
        "# Fetch the MPA ID from \"g\" and place alongside summary statistics.\n",
        "def stats_bathy(g, rds):\n",
        "    mpa_arr = rds.geometry_subset(g.geometry)\n",
        "    mean_bathy = mpa_arr.mean()\n",
        "    min_bathy = mpa_arr.min()\n",
        "    max_bathy = mpa_arr.max()\n",
        "    range_bathy = mpa_arr.ptp()\n",
        "    mpa_id = g['WDPA_PID']\n",
        "    return mpa_id, mean_bathy, min_bathy, max_bathy, range_bathy"
      ],
      "execution_count": 1,
      "outputs": []
    },
    {
      "metadata": {
        "id": "jlfa_gQ81mNG",
        "colab_type": "code",
        "colab": {
          "base_uri": "https://localhost:8080/",
          "height": 164
        },
        "outputId": "78b8d100-a4fc-462b-fefd-f779eaf81b66"
      },
      "cell_type": "code",
      "source": [
        "# Try the function on g = mpas_dissolved\n",
        "stats_bathy(mpas_dissolved, rds)"
      ],
      "execution_count": 2,
      "outputs": [
        {
          "output_type": "error",
          "ename": "NameError",
          "evalue": "ignored",
          "traceback": [
            "\u001b[0;31m\u001b[0m",
            "\u001b[0;31mNameError\u001b[0mTraceback (most recent call last)",
            "\u001b[0;32m<ipython-input-2-501a3398e74f>\u001b[0m in \u001b[0;36m<module>\u001b[0;34m()\u001b[0m\n\u001b[0;32m----> 1\u001b[0;31m \u001b[0mstats_bathy\u001b[0m\u001b[0;34m(\u001b[0m\u001b[0mmpas_dissolved\u001b[0m\u001b[0;34m,\u001b[0m \u001b[0mrds\u001b[0m\u001b[0;34m)\u001b[0m\u001b[0;34m\u001b[0m\u001b[0m\n\u001b[0m",
            "\u001b[0;31mNameError\u001b[0m: name 'mpas_dissolved' is not defined"
          ]
        }
      ]
    },
    {
      "metadata": {
        "id": "FJJ5bLgB1mNI",
        "colab_type": "text"
      },
      "cell_type": "markdown",
      "source": [
        "### Exercise 4.1"
      ]
    },
    {
      "metadata": {
        "id": "lZ9QyjD31mNI",
        "colab_type": "code",
        "colab": {}
      },
      "cell_type": "code",
      "source": [
        "# Follow the steps above to clip your raster data to MPA boundaries."
      ],
      "execution_count": 0,
      "outputs": []
    },
    {
      "metadata": {
        "id": "Te55IqNS1mNL",
        "colab_type": "code",
        "colab": {}
      },
      "cell_type": "code",
      "source": [
        "# Define a new function calculating the standard deviation and coefficient of variation of MPA geometries"
      ],
      "execution_count": 0,
      "outputs": []
    },
    {
      "metadata": {
        "id": "G48ciIuA1mNM",
        "colab_type": "text"
      },
      "cell_type": "markdown",
      "source": [
        "## Step 4.2: Apply bathymetry to many \"zones\""
      ]
    },
    {
      "metadata": {
        "id": "yVfFHRpz1mNM",
        "colab_type": "text"
      },
      "cell_type": "markdown",
      "source": [
        "Now that our personal \"Raster Stats\" are bundled neatly in one function, we can iterate through multiple geometries, for example, each individual MPA (undissolved). The easiest way to do this is to use `apply`, which operates like `apply` in R. Our steps are:\n",
        "\n",
        "* Create an anonymous function using `lambda` and run each geometry (row) in our DataFrame through that function. \n",
        "* `apply` basically **points each geometry in our DataFrame**  to fill `g` in `stats_bathy(g, rds)`"
      ]
    },
    {
      "metadata": {
        "id": "qhATIhvN1mNN",
        "colab_type": "code",
        "colab": {}
      },
      "cell_type": "code",
      "source": [
        "# Define a new function that uses 'lambda' to iterate stats_bathy through multiple DataFrame rows (MPA geometries).\n",
        "def stats_bathy_multiple(dataframe, rds):\n",
        "    series_mpas = dataframe.apply(lambda r: stats_bathy(r, rds), axis=1)\n",
        "    return series_mpas"
      ],
      "execution_count": 0,
      "outputs": []
    },
    {
      "metadata": {
        "id": "Pg1TH5JQ1mNP",
        "colab_type": "code",
        "colab": {}
      },
      "cell_type": "code",
      "source": [
        "# Try out the function on our original 'mpa' GeoDataFrame\n",
        "series_mpas = stats_bathy_multiple(mpa, rds)\n",
        "series_mpas"
      ],
      "execution_count": 0,
      "outputs": []
    },
    {
      "metadata": {
        "id": "X-Eewgcc1mNQ",
        "colab_type": "text"
      },
      "cell_type": "markdown",
      "source": [
        "We now have summary statistics for all MPAs in our `conserve` dataset!"
      ]
    },
    {
      "metadata": {
        "id": "hftFLbOL1mNQ",
        "colab_type": "text"
      },
      "cell_type": "markdown",
      "source": [
        "## Extra steps"
      ]
    },
    {
      "metadata": {
        "id": "7vPPh_GD1mNQ",
        "colab_type": "text"
      },
      "cell_type": "markdown",
      "source": [
        "The data above isn't in the most usable format. Our function returns a series of tuples, with each tuple representing a different MPA geometry. \n",
        "\n",
        "If I want to get all of this back into a DataFrame, I can split each tuple into separate values (attributes). There are several ways to do this, but one easy method is `vstack()`, which splits *thing* into multiple *sub-things* and stacks them vertically to make an array. I can then insert this data into a DataFrame."
      ]
    },
    {
      "metadata": {
        "id": "Cdy1gDr01mNR",
        "colab_type": "code",
        "colab": {}
      },
      "cell_type": "code",
      "source": [
        "# Convert your series of tuples into a DataFrame using 'vstack'\n",
        "dataframe_mpas = pd.DataFrame(np.vstack(series_mpas))\n",
        "dataframe_mpas"
      ],
      "execution_count": 0,
      "outputs": []
    },
    {
      "metadata": {
        "id": "Ckax55Fx1mNS",
        "colab_type": "code",
        "colab": {}
      },
      "cell_type": "code",
      "source": [
        "# Rename the columns of your DataFrame\n",
        "dataframe_mpas = dataframe_mpas.rename(columns = {0:'WDPA_PID', 1:'mean_bathy', 2: 'min_bathy', 3: 'max_bathy', 4: 'range_bathy'})\n",
        "dataframe_mpas"
      ],
      "execution_count": 0,
      "outputs": []
    },
    {
      "metadata": {
        "id": "Snkb6CRB1mNU",
        "colab_type": "text"
      },
      "cell_type": "markdown",
      "source": [
        "I can then save this data back out to a CSV. Saving tabular data is as simple as:\n",
        "* DataFrame = Pandas = `pd.read_csv()` = `pd.to_csv()`\n",
        "* GeoDataFrame = DataFrame with geometry attribute = GeoPandas = `gpd.read_file()` = `gpd.to_file()`"
      ]
    },
    {
      "metadata": {
        "id": "dThxTHuQ1mNV",
        "colab_type": "code",
        "colab": {}
      },
      "cell_type": "code",
      "source": [
        "# Save DataFrame to CSV\n",
        "dataframe_mpas.to_csv(\"python_ecodatascience.csv\")"
      ],
      "execution_count": 0,
      "outputs": []
    },
    {
      "metadata": {
        "id": "Y5XjVgVU1mNV",
        "colab_type": "text"
      },
      "cell_type": "markdown",
      "source": [
        "# Step 5: Review"
      ]
    },
    {
      "metadata": {
        "id": "U9jteQ171mNX",
        "colab_type": "text"
      },
      "cell_type": "markdown",
      "source": [
        "* **Use Pandas to manage and clean tabular data in a DataFrame**\n",
        "    * Use `loc` and `iloc` to index/subset data in a DataFrame.\n",
        "    * Remember to check `dtype` \n",
        "* **Use GeoPandas** to do the same for geodata\n",
        "* **NumPy is useful for managing data in arrays**, particularly if your data has over 2 dimensions.\n",
        "* A few tips for **iterating through DataFrames**:\n",
        "    * There are a bunch of iterative tools in Python--we used `apply` to iterate through GeoDataFrame rows (geometries) using axis=1 (we could also iterate through columns using axis=0). Some other important iterative tools that we didn't discuss are [loops](https://www.digitalocean.com/community/tutorials/how-to-construct-for-loops-in-python-3) and [list comprehensions](https://www.datacamp.com/community/tutorials/python-list-comprehension).\n",
        "* Data Structures in Python come in [many shapes and sizes](https://pandas.pydata.org/pandas-docs/stable/dsintro.html). Arrange your data (whatever it may be) in the structure of your choosing by 1) reading the filepath into the desired library like GeoPandas or, 2) using your data as an argument in a Data Constructor."
      ]
    }
  ]
}