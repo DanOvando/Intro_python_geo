{
  "nbformat": 4,
  "nbformat_minor": 0,
  "metadata": {
    "colab": {
      "name": "OpticalRS_intall.ipynb",
      "version": "0.3.2",
      "provenance": []
    },
    "kernelspec": {
      "name": "python2",
      "display_name": "Python 2"
    }
  },
  "cells": [
    {
      "cell_type": "markdown",
      "metadata": {
        "id": "view-in-github",
        "colab_type": "text"
      },
      "source": [
        "[View in Colaboratory](https://colab.research.google.com/github/rrcarlson/Intro_python_geo/blob/master/OpticalRS_intall.ipynb)"
      ]
    },
    {
      "metadata": {
        "id": "Tw3csNAt4-uq",
        "colab_type": "code",
        "colab": {
          "base_uri": "https://localhost:8080/",
          "height": 1105
        },
        "outputId": "53625e02-ef5c-4744-b816-d65c50bf6576"
      },
      "cell_type": "code",
      "source": [
        "#@title\n",
        "# Install OpticalRS. This also installs GeoPandas because GeoPandas is a dependency of OpticalRS\n",
        "!apt-get install software-properties-common python-software-properties\n",
        "!add-apt-repository ppa:ubuntugis/ppa -y\n",
        "!apt-get update\n",
        "!apt-get install -y --fix-missing python-gdal gdal-bin libgdal-dev\n",
        "!pip2 install OpticalRS"
      ],
      "execution_count": 1,
      "outputs": [
        {
          "output_type": "stream",
          "text": [
            "Reading package lists... Done\n",
            "Building dependency tree       \n",
            "Reading state information... Done\n",
            "software-properties-common is already the newest version (0.96.24.17).\n",
            "python-software-properties is already the newest version (0.96.24.17).\n",
            "0 upgraded, 0 newly installed, 0 to remove and 11 not upgraded.\n",
            "gpg: keybox '/tmp/tmpfmf88x0l/pubring.gpg' created\n",
            "gpg: /tmp/tmpfmf88x0l/trustdb.gpg: trustdb created\n",
            "gpg: key 089EBE08314DF160: public key \"Launchpad ubuntugis-stable\" imported\n",
            "gpg: Total number processed: 1\n",
            "gpg:               imported: 1\n",
            "OK\n",
            "Hit:1 http://security.ubuntu.com/ubuntu artful-security InRelease\n",
            "Ign:2 http://ppa.launchpad.net/ubuntugis/ppa/ubuntu artful InRelease\n",
            "Hit:3 http://archive.ubuntu.com/ubuntu artful InRelease\n",
            "Hit:4 http://archive.ubuntu.com/ubuntu artful-updates InRelease\n",
            "Err:5 http://ppa.launchpad.net/ubuntugis/ppa/ubuntu artful Release\n",
            "  404  Not Found\n",
            "Hit:6 http://archive.ubuntu.com/ubuntu artful-backports InRelease\n",
            "Reading package lists... Done\n",
            "E: The repository 'http://ppa.launchpad.net/ubuntugis/ppa/ubuntu artful Release' does not have a Release file.\n",
            "N: Updating from such a repository can't be done securely, and is therefore disabled by default.\n",
            "N: See apt-secure(8) manpage for repository creation and user configuration details.\n",
            "Reading package lists... Done\n",
            "Building dependency tree       \n",
            "Reading state information... Done\n",
            "gdal-bin is already the newest version (2.2.1+dfsg-2build3).\n",
            "libgdal-dev is already the newest version (2.2.1+dfsg-2build3).\n",
            "python-gdal is already the newest version (2.2.1+dfsg-2build3).\n",
            "0 upgraded, 0 newly installed, 0 to remove and 11 not upgraded.\n",
            "Requirement already satisfied: OpticalRS in /usr/local/lib/python2.7/dist-packages (1.0.4)\n",
            "Requirement already satisfied: numpy in /usr/local/lib/python2.7/dist-packages (from OpticalRS) (1.14.3)\n",
            "Requirement already satisfied: geopandas in /usr/local/lib/python2.7/dist-packages (from OpticalRS) (0.3.0)\n",
            "Requirement already satisfied: pandas in /usr/local/lib/python2.7/dist-packages (from OpticalRS) (0.22.0)\n",
            "Requirement already satisfied: matplotlib in /usr/local/lib/python2.7/dist-packages (from OpticalRS) (2.1.2)\n",
            "Requirement already satisfied: scikit-learn in /usr/local/lib/python2.7/dist-packages (from OpticalRS) (0.19.1)\n",
            "Requirement already satisfied: statsmodels in /usr/local/lib/python2.7/dist-packages (from OpticalRS) (0.8.0)\n",
            "Requirement already satisfied: scipy in /usr/local/lib/python2.7/dist-packages (from OpticalRS) (0.19.1)\n",
            "Requirement already satisfied: rasterstats==0.5 in /usr/local/lib/python2.7/dist-packages (from OpticalRS) (0.5)\n",
            "Requirement already satisfied: scikit-image in /usr/local/lib/python2.7/dist-packages (from OpticalRS) (0.13.1)\n",
            "Requirement already satisfied: GDAL in /usr/lib/python2.7/dist-packages (from OpticalRS) (2.2.1)\n",
            "Requirement already satisfied: descartes in /usr/local/lib/python2.7/dist-packages (from geopandas->OpticalRS) (1.1.0)\n",
            "Requirement already satisfied: shapely in /usr/local/lib/python2.7/dist-packages (from geopandas->OpticalRS) (1.6.4.post1)\n",
            "Requirement already satisfied: fiona in /usr/local/lib/python2.7/dist-packages (from geopandas->OpticalRS) (1.7.11.post2)\n",
            "Requirement already satisfied: pyproj in /usr/local/lib/python2.7/dist-packages (from geopandas->OpticalRS) (1.9.5.1)\n",
            "Requirement already satisfied: pytz>=2011k in /usr/local/lib/python2.7/dist-packages (from pandas->OpticalRS) (2018.4)\n",
            "Requirement already satisfied: python-dateutil in /usr/local/lib/python2.7/dist-packages (from pandas->OpticalRS) (2.5.3)\n",
            "Requirement already satisfied: cycler>=0.10 in /usr/local/lib/python2.7/dist-packages (from matplotlib->OpticalRS) (0.10.0)\n",
            "Requirement already satisfied: backports.functools-lru-cache in /usr/local/lib/python2.7/dist-packages (from matplotlib->OpticalRS) (1.5)\n",
            "Requirement already satisfied: subprocess32 in /usr/local/lib/python2.7/dist-packages (from matplotlib->OpticalRS) (3.5.0)\n",
            "Requirement already satisfied: six>=1.10 in /usr/local/lib/python2.7/dist-packages (from matplotlib->OpticalRS) (1.11.0)\n",
            "Requirement already satisfied: pyparsing!=2.0.4,!=2.1.2,!=2.1.6,>=2.0.1 in /usr/local/lib/python2.7/dist-packages (from matplotlib->OpticalRS) (2.2.0)\n",
            "Requirement already satisfied: patsy in /usr/local/lib/python2.7/dist-packages (from statsmodels->OpticalRS) (0.5.0)\n",
            "Requirement already satisfied: docopt in /usr/local/lib/python2.7/dist-packages (from rasterstats==0.5->OpticalRS) (0.6.2)\n",
            "Requirement already satisfied: PyWavelets>=0.4.0 in /usr/local/lib/python2.7/dist-packages (from scikit-image->OpticalRS) (0.5.2)\n",
            "Requirement already satisfied: networkx>=1.8 in /usr/local/lib/python2.7/dist-packages (from scikit-image->OpticalRS) (2.1)\n",
            "Requirement already satisfied: pillow>=2.1.0 in /usr/local/lib/python2.7/dist-packages (from scikit-image->OpticalRS) (4.0.0)\n",
            "Requirement already satisfied: click-plugins in /usr/local/lib/python2.7/dist-packages (from fiona->geopandas->OpticalRS) (1.0.3)\n",
            "Requirement already satisfied: enum34 in /usr/local/lib/python2.7/dist-packages (from fiona->geopandas->OpticalRS) (1.1.6)\n",
            "Requirement already satisfied: cligj>=0.4 in /usr/local/lib/python2.7/dist-packages (from fiona->geopandas->OpticalRS) (0.4.0)\n",
            "Requirement already satisfied: munch in /usr/local/lib/python2.7/dist-packages (from fiona->geopandas->OpticalRS) (2.3.2)\n",
            "Requirement already satisfied: decorator>=4.1.0 in /usr/local/lib/python2.7/dist-packages (from networkx>=1.8->scikit-image->OpticalRS) (4.3.0)\n",
            "Requirement already satisfied: olefile in /usr/local/lib/python2.7/dist-packages (from pillow>=2.1.0->scikit-image->OpticalRS) (0.45.1)\n",
            "Requirement already satisfied: click>=3.0 in /usr/local/lib/python2.7/dist-packages (from click-plugins->fiona->geopandas->OpticalRS) (6.7)\n"
          ],
          "name": "stdout"
        }
      ]
    }
  ]
}