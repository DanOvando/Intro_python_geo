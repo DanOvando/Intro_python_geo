{
  "nbformat": 4,
  "nbformat_minor": 0,
  "metadata": {
    "colab": {
      "name": "OpticalRS_intall.ipynb",
      "version": "0.3.2",
      "provenance": [],
      "collapsed_sections": []
    },
    "kernelspec": {
      "name": "python2",
      "display_name": "Python 2"
    }
  },
  "cells": [
    {
      "cell_type": "markdown",
      "metadata": {
        "id": "view-in-github",
        "colab_type": "text"
      },
      "source": [
        "[View in Colaboratory](https://colab.research.google.com/github/rrcarlson/Intro_python_geo/blob/master/OpticalRS_intall.ipynb)"
      ]
    },
    {
      "metadata": {
        "id": "Tw3csNAt4-uq",
        "colab_type": "code",
        "colab": {}
      },
      "cell_type": "code",
      "source": [
        "#@title\n",
        "# Install OpticalRS. This also installs GeoPandas because GeoPandas is a dependency of OpticalRS\n",
        "!apt-get install software-properties-common python-software-properties\n",
        "!add-apt-repository ppa:ubuntugis/ppa -y\n",
        "!apt-get update\n",
        "!apt-get install -y --fix-missing python-gdal gdal-bin libgdal-dev\n",
        "!pip2 install OpticalRS /dev/null"
      ],
      "execution_count": 0,
      "outputs": []
    }
  ]
}